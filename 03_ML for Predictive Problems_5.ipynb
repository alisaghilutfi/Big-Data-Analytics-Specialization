{
 "cells": [
  {
   "cell_type": "markdown",
   "metadata": {},
   "source": [
    "# NLP Classification"
   ]
  },
  {
   "cell_type": "code",
   "execution_count": 3,
   "metadata": {},
   "outputs": [
    {
     "name": "stdout",
     "output_type": "stream",
     "text": [
      "class label: pos\n",
      "text: This movie is one of those \\WOW!\\\" movies. Not because it's the greatest movie of all time, but because it surprised me. Not only was it a T.V. movie, but it was on Elvis. I can safely say as many impersonators as there are there was only one Elvis, but I can also safely say that Kurt Russel came extremely close to being the real thing. It was one of the greatest impersonations that I have ever seen. He had me believing that it was really him. I learned a lot about Elvis' life from watching this movie. And don't led the television part of it let you stray-it's actually a really fantastic film! And Kurt Russel could've been Elvis' twin :)\"\n"
     ]
    }
   ],
   "source": [
    "import json\n",
    "import random\n",
    "with open(\"imdb_train.json\") as f:\n",
    "    data=json.load(f)\n",
    "random.shuffle(data) \n",
    "print(\"class label:\", data[0][\"class\"])\n",
    "print(\"text:\",data[0][\"text\"])"
   ]
  },
  {
   "cell_type": "code",
   "execution_count": 4,
   "metadata": {
    "scrolled": true
   },
   "outputs": [
    {
     "name": "stdout",
     "output_type": "stream",
     "text": [
      "This many texts 25000\n",
      "This many labels 25000\n",
      "\n",
      "pos This movie is one of those \\WOW!\\\" movies. Not bec...\n",
      "neg Ludicrous. Angelic 9-year-old Annakin turns into w...\n",
      "neg Model Chris McCormack (Margaux Hemingway) is bruta...\n",
      "pos Having read many of the other reviews for this fil...\n",
      "pos If ever I was asked to remember a song from a film...\n",
      "neg This movie makes a promising start and then gets v...\n",
      "pos Loopy, but shrewd and formidable mob boss Vic (an ...\n",
      "pos Directed by the duo Yudai Yamaguchi (Battlefield B...\n",
      "neg First of all, I'd like to say that I love the \\Lad...\n",
      "pos Curl up with this one on a dark and stormy night a...\n",
      "neg Here are the matches . . . (adv. = advantage)  The...\n",
      "neg I chuckled a few times during this movie. I laughe...\n",
      "pos Yeah sure it's cheesy, it's not Zombie, but it's n...\n",
      "pos Clark Gable plays a con man who busts into the lif...\n",
      "pos This is definitely one of the greatest Disney movi...\n",
      "pos When an actor has to play the role of an actor, fi...\n",
      "pos The year 1995, when so many people talked about th...\n",
      "neg Rented it last night. The opening(2001) ran WAAAAA...\n",
      "pos This movie surprised me. Some things were \\clichei...\n",
      "pos This film was enjoyable but for the wrong reasons....\n"
     ]
    }
   ],
   "source": [
    "## labeling all the text datas\n",
    "texts=[one_example[\"text\"] for one_example in data]\n",
    "labels=[one_example[\"class\"] for one_example in data]\n",
    "print(\"This many texts\",len(texts))\n",
    "print(\"This many labels\",len(labels))\n",
    "print()\n",
    "for label,text in list(zip(labels,texts))[:20]:\n",
    "    print(label,text[:50]+\"...\")"
   ]
  },
  {
   "cell_type": "code",
   "execution_count": 5,
   "metadata": {},
   "outputs": [
    {
     "name": "stdout",
     "output_type": "stream",
     "text": [
      "shape= (25000, 74849)\n",
      "what did we get? -> <class 'scipy.sparse.csr.csr_matrix'>\n"
     ]
    }
   ],
   "source": [
    "## feature extraction with tfidfVectorizer\n",
    "from sklearn.feature_extraction.text import TfidfVectorizer\n",
    "vectorizer = TfidfVectorizer(max_features=100000,binary=True,ngram_range=(1,1))\n",
    "feature_matrix = vectorizer.fit_transform(texts)\n",
    "print(\"shape=\",feature_matrix.shape)\n",
    "print(\"what did we get? ->\", feature_matrix.__class__)"
   ]
  },
  {
   "cell_type": "code",
   "execution_count": 6,
   "metadata": {},
   "outputs": [
    {
     "name": "stdout",
     "output_type": "stream",
     "text": [
      "  (0, 68736)\t0.20594520898524926\n",
      "  (0, 6543)\t0.07424773758242767\n",
      "  (0, 70920)\t0.09083389181388886\n",
      "  (0, 15056)\t0.07771300349400224\n",
      "  (0, 24536)\t0.05061489677953058\n",
      "  (0, 23766)\t0.14554250915048061\n",
      "  (0, 1670)\t0.09530342747196267\n",
      "  (0, 63548)\t0.24687942517117256\n",
      "  (0, 74324)\t0.05133805217312917\n",
      "  (0, 38466)\t0.11243259385672208\n",
      "  (0, 48525)\t0.09786208886993593\n",
      "  (0, 65937)\t0.14474796856037733\n",
      "  (0, 38180)\t0.17173760309195316\n",
      "  (0, 19563)\t0.07506961284287783\n",
      "  (0, 3258)\t0.033043400534576224\n",
      "  (0, 72259)\t0.0918919620061617\n",
      "  (0, 26180)\t0.05617288040649016\n",
      "  (0, 38683)\t0.08592275570938178\n",
      "  (0, 1277)\t0.05970449561779006\n",
      "  (0, 39486)\t0.0968723367343373\n",
      "  (0, 38119)\t0.1798994449508543\n",
      "  (0, 31002)\t0.08258209908184415\n",
      "  (0, 53839)\t0.06989183772120577\n",
      "  (0, 6726)\t0.1985784700150702\n",
      "  (0, 29369)\t0.07061637239257426\n",
      "  :\t:\n",
      "  (24999, 72259)\t0.06336382776854237\n",
      "  (24999, 26180)\t0.038733841803280954\n",
      "  (24999, 31002)\t0.056944239612990305\n",
      "  (24999, 53839)\t0.04819370781849712\n",
      "  (24999, 30118)\t0.0345222017278514\n",
      "  (24999, 67125)\t0.02342239309729533\n",
      "  (24999, 66322)\t0.026597224229241986\n",
      "  (24999, 4124)\t0.03496306839144457\n",
      "  (24999, 66432)\t0.040480551463546295\n",
      "  (24999, 4465)\t0.03170731296367596\n",
      "  (24999, 10357)\t0.04307418293044793\n",
      "  (24999, 72196)\t0.031643154932525265\n",
      "  (24999, 46957)\t0.04616662503665648\n",
      "  (24999, 9881)\t0.02929722982399009\n",
      "  (24999, 66925)\t0.04520762235467834\n",
      "  (24999, 2662)\t0.036302431398205354\n",
      "  (24999, 66339)\t0.022218744456699673\n",
      "  (24999, 34683)\t0.024569669335520804\n",
      "  (24999, 6459)\t0.052580636084358694\n",
      "  (24999, 66615)\t0.06370574041189771\n",
      "  (24999, 46680)\t0.0231871160728499\n",
      "  (24999, 46932)\t0.03455329024599421\n",
      "  (24999, 34585)\t0.024429704363397167\n",
      "  (24999, 44147)\t0.03283909930738583\n",
      "  (24999, 66562)\t0.024221409844411335\n"
     ]
    }
   ],
   "source": [
    "print(feature_matrix)"
   ]
  },
  {
   "cell_type": "code",
   "execution_count": 7,
   "metadata": {
    "scrolled": true
   },
   "outputs": [
    {
     "name": "stdout",
     "output_type": "stream",
     "text": [
      "['00', '000', '0000000000001', '00001', '00015', '000s', '001', '003830', '006', '007', '0079', '0080', '0083', '0093638', '00am', '00pm', '00s', '01', '01pm', '02', '020410', '029', '03', '04', '041', '05', '050', '06', '06th', '07', '08', '087', '089', '08th', '09', '0f', '0ne', '0r', '0s', '10', '100', '1000', '1000000', '10000000000000', '1000lb', '1000s', '1001', '100b', '100k', '100m', '100min', '100mph', '100s', '100th', '100x', '100yards', '101', '101st', '102', '102nd', '103', '104', '1040', '1040a', '1040s', '105', '1050', '105lbs', '106', '106min', '107', '108', '109', '10am', '10lines', '10mil', '10min', '10minutes', '10p', '10pm', '10s', '10star', '10th', '10x', '10yr', '11', '110', '1100', '11001001', '1100ad', '111', '112', '1138', '114', '1146', '115', '116', '117', '11f', '11m', '11th', '12', '120', '1200', '1200f', '1201', '1202', '123', '12383499143743701', '125', '125m', '127', '128', '12a', '12hr', '12m', '12mm', '12s', '12th', '13', '130', '1300', '1300s', '131', '1318', '132', '134', '135', '135m', '136', '137', '138', '139', '13k', '13s', '13th', '14', '140', '1408', '140hp', '1415', '142', '145', '1454', '146', '147', '1473', '149', '1492', '14a', '14ieme', '14s', '14th', '14yr', '14ème', '15', '150', '1500', '1500s', '150_worst_cases_of_nepotism', '150k', '150m', '151', '152', '153', '1547', '155', '156', '1561', '157', '158', '1594', '15mins', '15minutes', '15s', '15th', '16', '160', '1600', '1600s', '160lbs', '161', '1610', '163', '164', '165', '166', '1660s', '168', '169', '1692', '16ieme', '16k', '16mm', '16s', '16th', '16x9', '16ème', '16éme', '17', '170', '1700', '1700s', '1701', '171', '175', '177', '1775', '1780s', '1790s', '1794', '1798', '17million', '17th', '18', '180', '1800', '1800mph', '1800s', '1801', '1805', '1809', '180d', '1812', '1813', '18137', '1814', '1816', '1820', '1824', '183', '1830', '1832', '1836', '1837', '1838', '1839', '1840', '1840s', '1844', '1846', '1847', '185', '1850', '1850ies', '1850s', '1852', '1853', '1854', '1855', '1859', '1860', '1860s', '1861', '1862', '1863', '1864', '1865', '1870', '1870s', '1871', '1873', '1874', '1875', '1876', '188', '1880', '1880s', '1881', '1886', '1887', '1888', '1889', '188o', '1890', '1890s', '1892', '1893', '1894', '1895', '1896', '1897', '1898', '1899', '18a', '18s', '18th', '18year', '19', '190', '1900', '1900s', '1901', '1902', '1903', '1904', '1905', '1906', '1907', '1908', '1909', '1910', '1910s', '1911', '1912', '1913', '1914', '1915', '1916', '1917', '1918', '1919', '192', '1920', '1920ies', '1920s', '1921', '1922', '1923', '1924', '1925', '1926', '1927', '1928', '1929', '1930', '1930ies', '1930s', '1931', '1932', '1933', '1934', '1935', '1936', '1937', '1938', '1939', '193o', '194', '1940', '1940s', '1941', '1942', '1943', '1944', '1945', '1946', '1947', '1948', '1949', '1949er', '195', '1950', '1950s', '1951', '1952', '1953', '1954', '1955', '1956', '1957', '1958', '1959', '1960', '1960s', '1961', '1961s', '1962', '1963', '1964', '1965', '1966', '1967', '1968', '1969', '197', '1970', '1970ies', '1970s', '1971', '1972', '1973', '1974', '1975', '1976', '1977', '1978', '1979', '19796', '197o', '1980', '1980ies', '1980s', '1981', '1982', '1982s', '1983', '1983s', '1984', '1984ish', '1985', '1986', '1987', '1988', '1989', '1990', '1990s', '1991', '1992', '1993', '1994', '1995', '1996', '1997', '1998', '1999', '19k', '19th', '19thc', '1am', '1and', '1d', '1h', '1h30', '1h40', '1h40m', '1h53', '1hour', '1hr', '1million', '1min', '1mln', '1o', '1s', '1st', '1ton', '1tv', '1½', '1ç', '20', '200', '2000', '20000', '20001', '2000ad', '2000s', '2001', '2002', '2003', '2004', '2004s', '2005', '2006', '2007', '2008', '2009', '200ft', '200th', '201', '2010', '2012', '2013', '2015', '2017', '2019', '2020', '2022', '2023', '2030', '2031', '2033', '2035', '2036', '2038', '204', '2040', '2044', '2046', '2047', '2050', '2053', '2054', '206', '2060', '2070', '2080', '209', '2090', '20c', '20ft', '20k', '20m', '20mins', '20minutes', '20mn', '20p', '20perr', '20s', '20th', '20ties', '20widow', '20x', '20year', '20yrs', '21', '210', '2100', '214', '215', '2151', '216', '21699', '21849889', '21849890', '21849907', '21st', '22', '220', '2200', '221', '2210', '22101', '222', '223', '225', '2257', '225mins', '227', '22d', '22h45', '22nd', '23', '230lbs', '230mph', '231', '232', '233', '236', '237', '23d', '23rd', '24', '240', '2400', '241', '242', '248', '2480', '249', '24m30s', '24th', '24years', '25', '250', '2500', '250000', '25million', '25mins', '25s', '25th', '25yo', '25yrs', '26', '260', '2600', '261k', '262', '2642', '269', '26th', '27', '270', '272', '273', '274', '275', '2772', '278', '27th', '27x41', '28', '280', '285', '28th', '29', '29th', '2am', '2d', '2fast', '2furious', '2h', '2h30', '2hour', '2hours', '2hr', '2hrs', '2in', '2inch', '2k', '2more', '2nd', '2oo4', '2oo5', '2pac', '2point4', '2s', '2x4', '30', '300', '3000', '300ad', '300c', '300lbs', '300mln', '3012', '303', '305', '30am', '30ish', '30k', '30lbs', '30min', '30mins', '30pm', '30s', '30something', '30th', '30ties', '31', '3199', '31st', '32', '3200', '320x180', '32lb', '32nd', '33', '330am', '330mins', '332960073452', '336th', '33m', '34', '345', '3462', '34th', '35', '350', '3500', '3516', '356', '357', '35c', '35mins', '35mm', '35pm', '35th', '35yr', '36', '360', '365', '36th', '37', '370', '372', '378', '38', '38k', '38th', '39', '395', '39th', '3am', '3bs', '3d', '3dvd', '3k', '3lbs', '3m', '3mins', '3p', '3p0', '3pm', '3po', '3rd', '3rds', '3th', '3who', '3x5', '3yrs', '40', '400', '4000', '401k', '405', '409', '40am', '40min', '40mins', '40mph', '40s', '40th', '41', '42', '420', '425', '428', '42nd', '43', '430', '44', '440', '442nd', '44c', '44yrs', '45', '450', '4500', '451', '454', '45am', '45min', '45mins', '45s', '46', '465', '469', '47', '475', '477', '47s', '48', '480m', '480p', '48hrs', '49', '498', '49th', '4am', '4cylinder', '4d', '4eva', '4ever', '4f', '4h', '4hrs', '4k', '4kids', '4m', '4o', '4pm', '4th', '4w', '4ward', '4x', '4x4', '50', '500', '5000', '500000', '500ad', '500db', '500lbs', '502', '50c', '50ft', '50ies', '50ish', '50k', '50min', '50mins', '50s', '50th', '50usd', '51', '51b', '51st', '52', '5200', '5250', '529', '52s', '53', '53m', '54', '5400', '540i', '54th', '55', '5539', '555', '55th', '56', '57', '571', '576', '578', '57d', '58', '58th', '59', '598947', '59th', '5hrs', '5ive', '5kph', '5million', '5min', '5mins', '5s', '5seconds', '5th', '5x', '5x5', '5years', '5yo', '5yrs', '60', '600', '6000', '607', '608', '60ies', '60ish', '60mph', '60s', '60th', '60ties', '61', '618', '62', '6200', '62229249', '63', '637', '63rd', '64', '65', '65m', '66', '660', '666', '66er', '67', '6723', '67th', '68', '68th', '69', '69th', '6am', '6b', '6ft', '6hours', '6k', '6million', '6pm', '6th', '6wks', '6yo', '70', '700', '701', '707', '70ies', '70m', '70mm', '70s', '70th', '71', '713', '72', '72nd', '73', '7300', '735', '737', '74', '740', '740il', '747', '747s', '74th', '75', '750', '75054', '75c', '75m', '76', '7600', '77', '78', '788', '78rpm', '79', '79th', '7days', '7even', '7eventy', '7ft', '7ish', '7mm', '7th', '7½th', '80', '800', '8000', '80ies', '80ish', '80min', '80s', '80yr', '81', '817', '819', '82', '820', '8217', '8230', '83', '84', '849', '84f', '84s', '85', '850', '850pm', '86', '86s', '87', '8700', '8763', '878', '87minutes', '88', '88min', '89', '89or', '89s', '8bit', '8ftdf', '8k', '8mm', '8o', '8p', '8pm', '8star', '8th', '8u', '8½', '90', '900', '9000', '90210', '905', '90c', '90ish', '90min', '90mins', '90s', '91', '911', '914', '917', '92', '921', '92fs', '92nd', '93', '937', '94', '9484', '94s', '94th', '95', '950', '95th', '96', '97', '970', '974th', '978', '98', '987', '98minutes', '99', '998', '999', '9999', '99cents', '99p', '99½', '9_', '9am', '9as', '9do', '9ers', '9is', '9lbs', '9mm']\n"
     ]
    }
   ],
   "source": [
    "print(vectorizer.get_feature_names()[:1000])"
   ]
  },
  {
   "cell_type": "code",
   "execution_count": 8,
   "metadata": {},
   "outputs": [],
   "source": [
    "from sklearn.model_selection import train_test_split\n",
    "\n",
    "train_texts, dev_texts, train_labels, dev_labels=train_test_split(texts,labels,test_size=0.2)\n",
    "vectorizer=TfidfVectorizer(max_features=100000,binary=True,ngram_range=(1,1))\n",
    "feature_matrix_train=vectorizer.fit_transform(train_texts)\n",
    "feature_matrix_dev=vectorizer.transform(dev_texts)"
   ]
  },
  {
   "cell_type": "code",
   "execution_count": 9,
   "metadata": {},
   "outputs": [
    {
     "name": "stdout",
     "output_type": "stream",
     "text": [
      "(20000, 68404)\n",
      "(5000, 68404)\n"
     ]
    }
   ],
   "source": [
    "print(feature_matrix_train.shape)\n",
    "print(feature_matrix_dev.shape)"
   ]
  },
  {
   "cell_type": "markdown",
   "metadata": {},
   "source": [
    "## classifier svm"
   ]
  },
  {
   "cell_type": "code",
   "execution_count": 10,
   "metadata": {},
   "outputs": [
    {
     "name": "stdout",
     "output_type": "stream",
     "text": [
      "[LibLinear]"
     ]
    },
    {
     "data": {
      "text/plain": [
       "LinearSVC(C=0.0005, class_weight=None, dual=True, fit_intercept=True,\n",
       "          intercept_scaling=1, loss='squared_hinge', max_iter=1000,\n",
       "          multi_class='ovr', penalty='l2', random_state=None, tol=0.0001,\n",
       "          verbose=1)"
      ]
     },
     "execution_count": 10,
     "metadata": {},
     "output_type": "execute_result"
    }
   ],
   "source": [
    "import sklearn.svm\n",
    "classifier=sklearn.svm.LinearSVC(C=0.0005,verbose=1)\n",
    "classifier.fit(feature_matrix_train, train_labels)"
   ]
  },
  {
   "cell_type": "code",
   "execution_count": 11,
   "metadata": {},
   "outputs": [
    {
     "name": "stdout",
     "output_type": "stream",
     "text": [
      "DEV 0.8324\n",
      "TRAIN 0.848\n"
     ]
    }
   ],
   "source": [
    "## train score and test score\n",
    "print(\"DEV\",classifier.score(feature_matrix_dev, dev_labels))\n",
    "print(\"TRAIN\",classifier.score(feature_matrix_train, train_labels))"
   ]
  },
  {
   "cell_type": "markdown",
   "metadata": {},
   "source": [
    "## confusion matrix, prediction accuracy"
   ]
  },
  {
   "cell_type": "code",
   "execution_count": 12,
   "metadata": {},
   "outputs": [
    {
     "name": "stdout",
     "output_type": "stream",
     "text": [
      "['pos' 'pos' 'neg' ... 'pos' 'neg' 'pos']\n",
      "[[2038  457]\n",
      " [ 381 2124]]\n",
      "0.8324\n"
     ]
    }
   ],
   "source": [
    "import sklearn.metrics\n",
    "predictions_dev=classifier.predict(feature_matrix_dev)\n",
    "print(predictions_dev)\n",
    "print(sklearn.metrics.confusion_matrix(dev_labels,predictions_dev))\n",
    "print(sklearn.metrics.accuracy_score(dev_labels,predictions_dev))"
   ]
  },
  {
   "cell_type": "markdown",
   "metadata": {},
   "source": [
    "## checking the result for differnt C value"
   ]
  },
  {
   "cell_type": "code",
   "execution_count": 13,
   "metadata": {
    "scrolled": true
   },
   "outputs": [
    {
     "name": "stdout",
     "output_type": "stream",
     "text": [
      "[LibLinear] for C =  5e-05\n",
      "devlopment score is: 0.8052\n",
      "train score is: 0.8307\n",
      "['neg' 'pos' 'neg' ... 'neg' 'neg' 'neg']\n",
      "confusion matrix is: [[2262  233]\n",
      " [ 741 1764]]\n",
      "accuracy score is: 0.8052\n",
      "----------------------------------------------------------------------\n",
      "[LibLinear] for C =  0.0005\n",
      "devlopment score is: 0.8324\n",
      "train score is: 0.848\n",
      "['pos' 'pos' 'neg' ... 'pos' 'neg' 'pos']\n",
      "confusion matrix is: [[2038  457]\n",
      " [ 381 2124]]\n",
      "accuracy score is: 0.8324\n",
      "----------------------------------------------------------------------\n",
      "[LibLinear] for C =  0.005\n",
      "devlopment score is: 0.8524\n",
      "train score is: 0.86805\n",
      "['pos' 'pos' 'neg' ... 'neg' 'neg' 'pos']\n",
      "confusion matrix is: [[2057  438]\n",
      " [ 300 2205]]\n",
      "accuracy score is: 0.8524\n",
      "----------------------------------------------------------------------\n",
      "[LibLinear] for C =  0.05\n",
      "devlopment score is: 0.8812\n",
      "train score is: 0.92375\n",
      "['pos' 'pos' 'neg' ... 'neg' 'pos' 'pos']\n",
      "confusion matrix is: [[2155  340]\n",
      " [ 254 2251]]\n",
      "accuracy score is: 0.8812\n",
      "----------------------------------------------------------------------\n",
      "[LibLinear] for C =  0.5\n",
      "devlopment score is: 0.8896\n",
      "train score is: 0.9857\n",
      "['pos' 'pos' 'neg' ... 'neg' 'pos' 'pos']\n",
      "confusion matrix is: [[2203  292]\n",
      " [ 260 2245]]\n",
      "accuracy score is: 0.8896\n",
      "----------------------------------------------------------------------\n",
      "[LibLinear] for C =  5\n",
      "devlopment score is: 0.8736\n",
      "train score is: 1.0\n",
      "['pos' 'pos' 'neg' ... 'neg' 'pos' 'pos']\n",
      "confusion matrix is: [[2173  322]\n",
      " [ 310 2195]]\n",
      "accuracy score is: 0.8736\n",
      "----------------------------------------------------------------------\n",
      "[LibLinear] for C =  50\n",
      "devlopment score is: 0.8638\n",
      "train score is: 1.0\n",
      "['pos' 'pos' 'neg' ... 'neg' 'pos' 'pos']\n",
      "confusion matrix is: [[2145  350]\n",
      " [ 331 2174]]\n",
      "accuracy score is: 0.8638\n",
      "----------------------------------------------------------------------\n"
     ]
    }
   ],
   "source": [
    "dev_score = []\n",
    "train_score =[]\n",
    "import sklearn.metrics\n",
    "for c in [0.00005, 0.0005, 0.005, 0.05, 0.5, 5, 50]:\n",
    "    classifier=sklearn.svm.LinearSVC(C= c,verbose=1)\n",
    "    classifier.fit(feature_matrix_train, train_labels)\n",
    "    predictions_dev=classifier.predict(feature_matrix_dev)\n",
    "    print(' for C = ', c)\n",
    "    print('devlopment score is:', classifier.score(feature_matrix_dev, dev_labels))\n",
    "    print('train score is:', classifier.score(feature_matrix_train, train_labels))\n",
    "    print(predictions_dev)\n",
    "    print('confusion matrix is:', sklearn.metrics.confusion_matrix(dev_labels,predictions_dev))\n",
    "    print('accuracy score is:',sklearn.metrics.accuracy_score(dev_labels,predictions_dev))\n",
    "    dev_score.append(classifier.score(feature_matrix_dev, dev_labels))\n",
    "    train_score.append(classifier.score(feature_matrix_train, train_labels))\n",
    "    print('----------------------------------------------------------------------')\n",
    "    "
   ]
  },
  {
   "cell_type": "markdown",
   "metadata": {},
   "source": [
    "#####  according to the extracted result, the optimum C is around  C = .005 so lets check the hypathesis , lets check the scor result for C = 0.02, C  = 0.2"
   ]
  },
  {
   "cell_type": "code",
   "execution_count": 14,
   "metadata": {},
   "outputs": [
    {
     "name": "stdout",
     "output_type": "stream",
     "text": [
      "[LibLinear] for C =  0.001\n",
      "devlopment score is: 0.8364\n",
      "train score is: 0.85015\n",
      "----------------------------------------------------------------------\n",
      "[LibLinear] for C =  0.025\n",
      "devlopment score is: 0.8706\n",
      "train score is: 0.90395\n",
      "----------------------------------------------------------------------\n"
     ]
    }
   ],
   "source": [
    "dev_score_1 = []\n",
    "train_score_1 =[]\n",
    "\n",
    "for c in [0.005/5,0.005*5]:\n",
    "    classifier=sklearn.svm.LinearSVC(C= c,verbose=1)\n",
    "    classifier.fit(feature_matrix_train, train_labels)\n",
    "    print(' for C = ', c)\n",
    "    print('devlopment score is:', classifier.score(feature_matrix_dev, dev_labels))\n",
    "    print('train score is:', classifier.score(feature_matrix_train, train_labels))\n",
    "    dev_score_1.append(classifier.score(feature_matrix_dev, dev_labels))\n",
    "    train_score_1.append(classifier.score(feature_matrix_train, train_labels))\n",
    "    print('----------------------------------------------------------------------')\n"
   ]
  },
  {
   "cell_type": "code",
   "execution_count": 15,
   "metadata": {},
   "outputs": [],
   "source": [
    "## try for C = 0.005*2 , 0.005*4, 0.005*6, .005*8"
   ]
  },
  {
   "cell_type": "code",
   "execution_count": 16,
   "metadata": {},
   "outputs": [
    {
     "name": "stdout",
     "output_type": "stream",
     "text": [
      "[LibLinear] for C =  0.01\n",
      "devlopment score is: 0.859\n",
      "train score is: 0.8825\n",
      "----------------------------------------------------------------------\n",
      "[LibLinear] for C =  0.02\n",
      "devlopment score is: 0.868\n",
      "train score is: 0.89845\n",
      "----------------------------------------------------------------------\n",
      "[LibLinear] for C =  0.03\n",
      "devlopment score is: 0.8748\n",
      "train score is: 0.9103\n",
      "----------------------------------------------------------------------\n",
      "[LibLinear] for C =  0.04\n",
      "devlopment score is: 0.8786\n",
      "train score is: 0.9171\n",
      "----------------------------------------------------------------------\n",
      "[LibLinear] for C =  0.015\n",
      "devlopment score is: 0.864\n",
      "train score is: 0.8913\n",
      "----------------------------------------------------------------------\n",
      "[LibLinear] for C =  0.0025\n",
      "devlopment score is: 0.8426\n",
      "train score is: 0.8581\n",
      "----------------------------------------------------------------------\n",
      "[LibLinear] for C =  0.00125\n",
      "devlopment score is: 0.838\n",
      "train score is: 0.85135\n",
      "----------------------------------------------------------------------\n",
      "[LibLinear] for C =  0.0008333333333333334\n",
      "devlopment score is: 0.8356\n",
      "train score is: 0.8493\n",
      "----------------------------------------------------------------------\n",
      "[LibLinear] for C =  0.000625\n",
      "devlopment score is: 0.8342\n",
      "train score is: 0.84835\n",
      "----------------------------------------------------------------------\n",
      "[LibLinear] for C =  0.0045\n",
      "devlopment score is: 0.8506\n",
      "train score is: 0.86645\n",
      "----------------------------------------------------------------------\n",
      "[LibLinear] for C =  0.0055\n",
      "devlopment score is: 0.853\n",
      "train score is: 0.87015\n",
      "----------------------------------------------------------------------\n"
     ]
    }
   ],
   "source": [
    "dev_score_2 = []\n",
    "train_score_2 =[]\n",
    "\n",
    "for c in [0.005*2 , 0.005*4, 0.005*6, .005*8, 0.015 , 0.005/2 , 0.005/4, 0.005/6, .005/8, 0.0045,0.0055 ]:\n",
    "    classifier=sklearn.svm.LinearSVC(C= c,verbose=1)\n",
    "    classifier.fit(feature_matrix_train, train_labels)\n",
    "    print(' for C = ', c)\n",
    "    print('devlopment score is:', classifier.score(feature_matrix_dev, dev_labels))\n",
    "    print('train score is:', classifier.score(feature_matrix_train, train_labels))\n",
    "    dev_score_2.append(classifier.score(feature_matrix_dev, dev_labels))\n",
    "    train_score_2.append(classifier.score(feature_matrix_train, train_labels))\n",
    "    print('----------------------------------------------------------------------')"
   ]
  },
  {
   "cell_type": "markdown",
   "metadata": {},
   "source": [
    "#### plot the scores based on the obtained C"
   ]
  },
  {
   "cell_type": "code",
   "execution_count": 17,
   "metadata": {},
   "outputs": [
    {
     "name": "stderr",
     "output_type": "stream",
     "text": [
      "findfont: Font family ['Arial'] not found. Falling back to DejaVu Sans.\n",
      "findfont: Font family ['Arial'] not found. Falling back to DejaVu Sans.\n",
      "findfont: Font family ['Arial'] not found. Falling back to DejaVu Sans.\n"
     ]
    },
    {
     "data": {
      "image/png": "[encoded data removed]",
      "text/plain": [
       "<Figure size 1440x720 with 1 Axes>"
      ]
     },
     "metadata": {
      "needs_background": "light"
     },
     "output_type": "display_data"
    }
   ],
   "source": [
    "import matplotlib.pyplot as plt\n",
    "plt.figure(figsize=(20,10))\n",
    "# matplotlib.rc('xtick', labelsize=15) \n",
    "# matplotlib.rc('ytick', labelsize= 15)\n",
    "font = {'family' : 'Arial',\n",
    "        'weight' : 'bold',\n",
    "        'size'   : 22}\n",
    "\n",
    "plt.rc('font', **font)\n",
    "plt.title('Train and development scores VS C values')\n",
    "plt.xlabel('C')\n",
    "plt.ylabel('scores')\n",
    "dev_scores = dev_score + dev_score_1 + dev_score_2\n",
    "train_scores = train_score + train_score_1 + train_score_2 \n",
    "cs = [0.00005, 0.0005, 0.005, 0.05, 0.5, 5, 50] + [0.005/5,0.005*5] + [0.005*2 , 0.005*4, 0.005*6, .005*8, 0.015]+ [0.005/2 , 0.005/4, 0.005/6, .005/8, 0.0045,0.0055 ]\n",
    "plt.plot(cs, dev_scores, 'r*', cs, train_scores, 'b^')\n",
    "plt.show()"
   ]
  },
  {
   "cell_type": "code",
   "execution_count": 18,
   "metadata": {},
   "outputs": [
    {
     "data": {
      "image/png": "[encoded data removed]",
      "text/plain": [
       "<Figure size 1440x720 with 1 Axes>"
      ]
     },
     "metadata": {
      "needs_background": "light"
     },
     "output_type": "display_data"
    }
   ],
   "source": [
    "### zoom a part of the scores which are close to gather\n",
    "plt.figure(figsize=(20,10))\n",
    "# matplotlib.rc('xtick', labelsize=15) \n",
    "# matplotlib.rc('ytick', labelsize= 15)\n",
    "font = {'family' : 'Arial',\n",
    "        'weight' : 'bold',\n",
    "        'size'   : 22}\n",
    "\n",
    "plt.rc('font', **font)\n",
    "plt.title('Train and development scores VS C values')\n",
    "plt.xlabel('C')\n",
    "plt.ylabel('scores')\n",
    "plt.xlim(0.00001, 0.021)\n",
    "plt.ylim(0.8,0.925)\n",
    "dev_scores = dev_score + dev_score_1 + dev_score_2\n",
    "train_scores = train_score + train_score_1 + train_score_2 \n",
    "cs = [0.00005, 0.0005, 0.005, 0.05, 0.5, 5, 50] + [0.005/5,0.005*5] + [0.005*2 , 0.005*4, 0.005*6, .005*8, 0.015] + [0.005/2 , 0.005/4, 0.005/6, .005/8, 0.0045,0.0055 ]\n",
    "plt.plot(cs, dev_scores, 'r*', cs, train_scores, 'b^')\n",
    "plt.show()\n"
   ]
  },
  {
   "cell_type": "markdown",
   "metadata": {},
   "source": [
    "###  different ngrams"
   ]
  },
  {
   "cell_type": "markdown",
   "metadata": {},
   "source": [
    "### the  result for countvectorizer for ngram = (1,1), now let's check the result for ngram = (1,2) , ngram = (2,2)"
   ]
  },
  {
   "cell_type": "code",
   "execution_count": 20,
   "metadata": {},
   "outputs": [
    {
     "name": "stdout",
     "output_type": "stream",
     "text": [
      "shape= (25000, 74849)\n",
      "what did we get? -> <class 'scipy.sparse.csr.csr_matrix'>\n"
     ]
    }
   ],
   "source": [
    "## feature extraction with tfidfVectorizer\n",
    "from sklearn.feature_extraction.text import CountVectorizer\n",
    "vectorizer = CountVectorizer(max_features=100000,binary=True,ngram_range=(1,1))\n",
    "feature_matrix_1 = vectorizer.fit_transform(texts)\n",
    "print(\"shape=\",feature_matrix.shape)\n",
    "print(\"what did we get? ->\", feature_matrix.__class__)"
   ]
  },
  {
   "cell_type": "code",
   "execution_count": 21,
   "metadata": {},
   "outputs": [
    {
     "name": "stdout",
     "output_type": "stream",
     "text": [
      "  (0, 66562)\t1\n",
      "  (0, 44147)\t1\n",
      "  (0, 34585)\t1\n",
      "  (0, 46932)\t1\n",
      "  (0, 46680)\t1\n",
      "  (0, 66615)\t1\n",
      "  (0, 73733)\t1\n",
      "  (0, 44164)\t1\n",
      "  (0, 46050)\t1\n",
      "  (0, 6459)\t1\n",
      "  (0, 34683)\t1\n",
      "  (0, 66339)\t1\n",
      "  (0, 28547)\t1\n",
      "  (0, 2662)\t1\n",
      "  (0, 66925)\t1\n",
      "  (0, 9881)\t1\n",
      "  (0, 64641)\t1\n",
      "  (0, 41798)\t1\n",
      "  (0, 46957)\t1\n",
      "  (0, 72196)\t1\n",
      "  (0, 46916)\t1\n",
      "  (0, 21437)\t1\n",
      "  (0, 10357)\t1\n",
      "  (0, 57093)\t1\n",
      "  (0, 57715)\t1\n",
      "  :\t:\n",
      "  (24999, 37425)\t1\n",
      "  (24999, 45964)\t1\n",
      "  (24999, 23559)\t1\n",
      "  (24999, 11057)\t1\n",
      "  (24999, 2220)\t1\n",
      "  (24999, 73116)\t1\n",
      "  (24999, 68729)\t1\n",
      "  (24999, 14309)\t1\n",
      "  (24999, 55455)\t1\n",
      "  (24999, 6665)\t1\n",
      "  (24999, 54280)\t1\n",
      "  (24999, 55024)\t1\n",
      "  (24999, 47302)\t1\n",
      "  (24999, 29728)\t1\n",
      "  (24999, 50213)\t1\n",
      "  (24999, 16548)\t1\n",
      "  (24999, 18803)\t1\n",
      "  (24999, 4317)\t1\n",
      "  (24999, 61942)\t1\n",
      "  (24999, 13991)\t1\n",
      "  (24999, 67690)\t1\n",
      "  (24999, 41051)\t1\n",
      "  (24999, 7570)\t1\n",
      "  (24999, 62106)\t1\n",
      "  (24999, 14474)\t1\n"
     ]
    }
   ],
   "source": [
    "print(feature_matrix_1)"
   ]
  },
  {
   "cell_type": "code",
   "execution_count": 22,
   "metadata": {},
   "outputs": [],
   "source": [
    "from sklearn.model_selection import train_test_split\n",
    "\n",
    "train_texts, dev_texts, train_labels, dev_labels=train_test_split(texts,labels,test_size=0.2)\n",
    "vectorizer=CountVectorizer(max_features=100000,binary=True,ngram_range=(1,1))\n",
    "feature_matrix_train_1=vectorizer.fit_transform(train_texts)\n",
    "feature_matrix_dev_1=vectorizer.transform(dev_texts)"
   ]
  },
  {
   "cell_type": "code",
   "execution_count": 23,
   "metadata": {},
   "outputs": [
    {
     "name": "stdout",
     "output_type": "stream",
     "text": [
      "(20000, 68339)\n",
      "(5000, 68339)\n"
     ]
    }
   ],
   "source": [
    "print(feature_matrix_train_1.shape)\n",
    "print(feature_matrix_dev_1.shape)"
   ]
  },
  {
   "cell_type": "code",
   "execution_count": 24,
   "metadata": {},
   "outputs": [
    {
     "name": "stdout",
     "output_type": "stream",
     "text": [
      "[LibLinear] for C =  5e-05\n",
      "devlopment score is: 0.8284\n",
      "train score is: 0.8424\n",
      "['neg' 'neg' 'neg' ... 'pos' 'neg' 'neg']\n",
      "confusion matrix is: [[2087  453]\n",
      " [ 405 2055]]\n",
      "accuracy score is: 0.8284\n",
      "----------------------------------------------------------------------\n",
      "[LibLinear] for C =  0.0005\n",
      "devlopment score is: 0.8624\n",
      "train score is: 0.8959\n",
      "['neg' 'neg' 'neg' ... 'pos' 'neg' 'pos']\n",
      "confusion matrix is: [[2172  368]\n",
      " [ 320 2140]]\n",
      "accuracy score is: 0.8624\n",
      "----------------------------------------------------------------------\n",
      "[LibLinear] for C =  0.005\n",
      "devlopment score is: 0.8836\n",
      "train score is: 0.95665\n",
      "['neg' 'neg' 'neg' ... 'pos' 'neg' 'pos']\n",
      "confusion matrix is: [[2247  293]\n",
      " [ 289 2171]]\n",
      "accuracy score is: 0.8836\n",
      "----------------------------------------------------------------------\n",
      "[LibLinear] for C =  0.05\n",
      "devlopment score is: 0.8738\n",
      "train score is: 0.99625\n",
      "['neg' 'neg' 'neg' ... 'pos' 'neg' 'pos']\n",
      "confusion matrix is: [[2229  311]\n",
      " [ 320 2140]]\n",
      "accuracy score is: 0.8738\n",
      "----------------------------------------------------------------------\n",
      "[LibLinear] for C =  0.5\n",
      "devlopment score is: 0.8594\n",
      "train score is: 1.0\n",
      "['pos' 'neg' 'neg' ... 'pos' 'neg' 'pos']\n",
      "confusion matrix is: [[2210  330]\n",
      " [ 373 2087]]\n",
      "accuracy score is: 0.8594\n",
      "----------------------------------------------------------------------\n",
      "[LibLinear]"
     ]
    },
    {
     "name": "stderr",
     "output_type": "stream",
     "text": [
      "/home/nafis/envs/lib/python3.7/site-packages/sklearn/svm/_base.py:947: ConvergenceWarning: Liblinear failed to converge, increase the number of iterations.\n",
      "  \"the number of iterations.\", ConvergenceWarning)\n"
     ]
    },
    {
     "name": "stdout",
     "output_type": "stream",
     "text": [
      " for C =  5\n",
      "devlopment score is: 0.8562\n",
      "train score is: 1.0\n",
      "['pos' 'neg' 'neg' ... 'pos' 'neg' 'pos']\n",
      "confusion matrix is: [[2205  335]\n",
      " [ 384 2076]]\n",
      "accuracy score is: 0.8562\n",
      "----------------------------------------------------------------------\n",
      "[LibLinear] for C =  50\n",
      "devlopment score is: 0.8564\n",
      "train score is: 1.0\n",
      "['pos' 'neg' 'neg' ... 'pos' 'neg' 'pos']\n",
      "confusion matrix is: [[2208  332]\n",
      " [ 386 2074]]\n",
      "accuracy score is: 0.8564\n",
      "----------------------------------------------------------------------\n",
      "[LibLinear] for C =  0.001\n",
      "devlopment score is: 0.8726\n",
      "train score is: 0.91355\n",
      "['neg' 'neg' 'neg' ... 'pos' 'neg' 'pos']\n",
      "confusion matrix is: [[2207  333]\n",
      " [ 304 2156]]\n",
      "accuracy score is: 0.8726\n",
      "----------------------------------------------------------------------\n",
      "[LibLinear] for C =  0.025\n",
      "devlopment score is: 0.8768\n",
      "train score is: 0.98965\n",
      "['neg' 'neg' 'neg' ... 'pos' 'neg' 'pos']\n",
      "confusion matrix is: [[2236  304]\n",
      " [ 312 2148]]\n",
      "accuracy score is: 0.8768\n",
      "----------------------------------------------------------------------\n",
      "[LibLinear] for C =  0.01\n",
      "devlopment score is: 0.8804\n",
      "train score is: 0.974\n",
      "['neg' 'neg' 'neg' ... 'pos' 'neg' 'pos']\n",
      "confusion matrix is: [[2244  296]\n",
      " [ 302 2158]]\n",
      "accuracy score is: 0.8804\n",
      "----------------------------------------------------------------------\n",
      "[LibLinear] for C =  0.02\n",
      "devlopment score is: 0.8784\n",
      "train score is: 0.98685\n",
      "['neg' 'neg' 'neg' ... 'pos' 'neg' 'pos']\n",
      "confusion matrix is: [[2239  301]\n",
      " [ 307 2153]]\n",
      "accuracy score is: 0.8784\n",
      "----------------------------------------------------------------------\n",
      "[LibLinear] for C =  0.03\n",
      "devlopment score is: 0.8754\n",
      "train score is: 0.99215\n",
      "['neg' 'neg' 'neg' ... 'pos' 'neg' 'pos']\n",
      "confusion matrix is: [[2233  307]\n",
      " [ 316 2144]]\n",
      "accuracy score is: 0.8754\n",
      "----------------------------------------------------------------------\n",
      "[LibLinear] for C =  0.04\n",
      "devlopment score is: 0.8748\n",
      "train score is: 0.99445\n",
      "['neg' 'neg' 'neg' ... 'pos' 'neg' 'pos']\n",
      "confusion matrix is: [[2228  312]\n",
      " [ 314 2146]]\n",
      "accuracy score is: 0.8748\n",
      "----------------------------------------------------------------------\n",
      "[LibLinear] for C =  0.015\n",
      "devlopment score is: 0.8804\n",
      "train score is: 0.9814\n",
      "['neg' 'neg' 'neg' ... 'pos' 'neg' 'pos']\n",
      "confusion matrix is: [[2246  294]\n",
      " [ 304 2156]]\n",
      "accuracy score is: 0.8804\n",
      "----------------------------------------------------------------------\n",
      "[LibLinear] for C =  0.0025\n",
      "devlopment score is: 0.8814\n",
      "train score is: 0.9386\n",
      "['neg' 'neg' 'neg' ... 'pos' 'neg' 'pos']\n",
      "confusion matrix is: [[2233  307]\n",
      " [ 286 2174]]\n",
      "accuracy score is: 0.8814\n",
      "----------------------------------------------------------------------\n",
      "[LibLinear] for C =  0.00125\n",
      "devlopment score is: 0.8744\n",
      "train score is: 0.92025\n",
      "['neg' 'neg' 'neg' ... 'pos' 'neg' 'pos']\n",
      "confusion matrix is: [[2212  328]\n",
      " [ 300 2160]]\n",
      "accuracy score is: 0.8744\n",
      "----------------------------------------------------------------------\n",
      "[LibLinear] for C =  0.0008333333333333334\n",
      "devlopment score is: 0.8698\n",
      "train score is: 0.9094\n",
      "['neg' 'neg' 'neg' ... 'pos' 'neg' 'pos']\n",
      "confusion matrix is: [[2200  340]\n",
      " [ 311 2149]]\n",
      "accuracy score is: 0.8698\n",
      "----------------------------------------------------------------------\n",
      "[LibLinear] for C =  0.000625\n",
      "devlopment score is: 0.8648\n",
      "train score is: 0.90115\n",
      "['neg' 'neg' 'neg' ... 'pos' 'neg' 'pos']\n",
      "confusion matrix is: [[2181  359]\n",
      " [ 317 2143]]\n",
      "accuracy score is: 0.8648\n",
      "----------------------------------------------------------------------\n",
      "[LibLinear] for C =  0.0045\n",
      "devlopment score is: 0.883\n",
      "train score is: 0.95385\n",
      "['neg' 'neg' 'neg' ... 'pos' 'neg' 'pos']\n",
      "confusion matrix is: [[2247  293]\n",
      " [ 292 2168]]\n",
      "accuracy score is: 0.883\n",
      "----------------------------------------------------------------------\n",
      "[LibLinear] for C =  0.0055\n",
      "devlopment score is: 0.8828\n",
      "train score is: 0.95895\n",
      "['neg' 'neg' 'neg' ... 'pos' 'neg' 'pos']\n",
      "confusion matrix is: [[2246  294]\n",
      " [ 292 2168]]\n",
      "accuracy score is: 0.8828\n",
      "----------------------------------------------------------------------\n"
     ]
    }
   ],
   "source": [
    "dev_score_1 = []\n",
    "train_score_1 =[]\n",
    "import sklearn.metrics\n",
    "for c in [0.00005, 0.0005, 0.005, 0.05, 0.5, 5, 50] + [0.005/5,0.005*5] + [0.005*2 , 0.005*4, 0.005*6, .005*8, 0.015] + [0.005/2 , 0.005/4, 0.005/6, .005/8, 0.0045,0.0055 ]:\n",
    "    classifier=sklearn.svm.LinearSVC(C= c,verbose=1)\n",
    "    classifier.fit(feature_matrix_train_1, train_labels)\n",
    "    predictions_dev=classifier.predict(feature_matrix_dev_1)\n",
    "    print(' for C = ', c)\n",
    "    print('devlopment score is:', classifier.score(feature_matrix_dev_1, dev_labels))\n",
    "    print('train score is:', classifier.score(feature_matrix_train_1, train_labels))\n",
    "    print(predictions_dev)\n",
    "    print('confusion matrix is:', sklearn.metrics.confusion_matrix(dev_labels,predictions_dev))\n",
    "    print('accuracy score is:',sklearn.metrics.accuracy_score(dev_labels,predictions_dev))\n",
    "    dev_score_1.append(classifier.score(feature_matrix_dev_1, dev_labels))\n",
    "    train_score_1.append(classifier.score(feature_matrix_train_1, train_labels))\n",
    "    print('----------------------------------------------------------------------')"
   ]
  },
  {
   "cell_type": "code",
   "execution_count": 30,
   "metadata": {},
   "outputs": [
    {
     "data": {
      "image/png": "[encoded data removed]",
      "text/plain": [
       "<Figure size 1440x720 with 1 Axes>"
      ]
     },
     "metadata": {
      "needs_background": "light"
     },
     "output_type": "display_data"
    }
   ],
   "source": [
    "import matplotlib.pyplot as plt\n",
    "plt.figure(figsize=(20,10))\n",
    "# matplotlib.rc('xtick', labelsize=15) \n",
    "# matplotlib.rc('ytick', labelsize= 15)\n",
    "font = {'family' : 'Arial',\n",
    "        'weight' : 'bold',\n",
    "        'size'   : 22}\n",
    "\n",
    "plt.rc('font', **font)\n",
    "plt.title('Train and development scores VS C values')\n",
    "plt.xlabel('C')\n",
    "plt.ylabel('scores')\n",
    "cs = [0.00005, 0.0005, 0.005, 0.05, 0.5, 5, 50] + [0.005/5,0.005*5] + [0.005*2 , 0.005*4, 0.005*6, .005*8, 0.015]+ [0.005/2 , 0.005/4, 0.005/6, .005/8, 0.0045,0.0055 ]\n",
    "plt.plot(cs, dev_score_1, 'r*', cs, train_score_1, 'b^')\n",
    "plt.show()"
   ]
  },
  {
   "cell_type": "code",
   "execution_count": 34,
   "metadata": {},
   "outputs": [
    {
     "data": {
      "image/png": "[encoded data removed]",
      "text/plain": [
       "<Figure size 1440x720 with 1 Axes>"
      ]
     },
     "metadata": {
      "needs_background": "light"
     },
     "output_type": "display_data"
    }
   ],
   "source": [
    "### zoom a part of the scores which are close to gather\n",
    "plt.figure(figsize=(20,10))\n",
    "# matplotlib.rc('xtick', labelsize=15) \n",
    "# matplotlib.rc('ytick', labelsize= 15)\n",
    "font = {'family' : 'Arial',\n",
    "        'weight' : 'bold',\n",
    "        'size'   : 22}\n",
    "\n",
    "plt.rc('font', **font)\n",
    "plt.title('Train and development scores VS C values')\n",
    "plt.xlabel('C')\n",
    "plt.ylabel('scores')\n",
    "plt.xlim(0, 0.005)\n",
    "plt.ylim(0, 1)\n",
    "cs = [0.00005, 0.0005, 0.005, 0.05, 0.5, 5, 50] + [0.005/5,0.005*5] + [0.005*2 , 0.005*4, 0.005*6, .005*8, 0.015] + [0.005/2 , 0.005/4, 0.005/6, .005/8, 0.0045,0.0055 ]\n",
    "plt.plot(cs, dev_score_1, 'r*', cs, train_score_1, 'b^')\n",
    "plt.show()\n"
   ]
  },
  {
   "cell_type": "markdown",
   "metadata": {},
   "source": [
    "### for ngram  = (1,2)"
   ]
  },
  {
   "cell_type": "code",
   "execution_count": 36,
   "metadata": {},
   "outputs": [
    {
     "name": "stdout",
     "output_type": "stream",
     "text": [
      "shape= (25000, 100000)\n",
      "what did we get? -> <class 'scipy.sparse.csr.csr_matrix'>\n"
     ]
    }
   ],
   "source": [
    "## feature extraction with tfidfVectorizer\n",
    "from sklearn.feature_extraction.text import CountVectorizer\n",
    "vectorizer = CountVectorizer(max_features=100000,binary=True,ngram_range=(1,2))\n",
    "feature_matrix_2 = vectorizer.fit_transform(texts)\n",
    "print(\"shape=\",feature_matrix.shape)\n",
    "print(\"what did we get? ->\", feature_matrix.__class__)"
   ]
  },
  {
   "cell_type": "code",
   "execution_count": 37,
   "metadata": {},
   "outputs": [
    {
     "name": "stdout",
     "output_type": "stream",
     "text": [
      "  (0, 86502)\t1\n",
      "  (0, 54171)\t1\n",
      "  (0, 42867)\t1\n",
      "  (0, 60479)\t1\n",
      "  (0, 57825)\t1\n",
      "  (0, 87133)\t1\n",
      "  (0, 98855)\t1\n",
      "  (0, 54648)\t1\n",
      "  (0, 56834)\t1\n",
      "  (0, 11324)\t1\n",
      "  (0, 44338)\t1\n",
      "  (0, 80869)\t1\n",
      "  (0, 34723)\t1\n",
      "  (0, 2527)\t1\n",
      "  (0, 87642)\t1\n",
      "  (0, 14430)\t1\n",
      "  (0, 78661)\t1\n",
      "  (0, 51905)\t1\n",
      "  (0, 60811)\t1\n",
      "  (0, 93626)\t1\n",
      "  (0, 60061)\t1\n",
      "  (0, 25508)\t1\n",
      "  (0, 15439)\t1\n",
      "  (0, 70369)\t1\n",
      "  (0, 70772)\t1\n",
      "  :\t:\n",
      "  (24999, 46278)\t1\n",
      "  (24999, 64798)\t1\n",
      "  (24999, 36351)\t1\n",
      "  (24999, 28096)\t1\n",
      "  (24999, 75995)\t1\n",
      "  (24999, 14742)\t1\n",
      "  (24999, 38363)\t1\n",
      "  (24999, 83367)\t1\n",
      "  (24999, 18972)\t1\n",
      "  (24999, 60904)\t1\n",
      "  (24999, 56442)\t1\n",
      "  (24999, 23608)\t1\n",
      "  (24999, 81468)\t1\n",
      "  (24999, 22788)\t1\n",
      "  (24999, 89981)\t1\n",
      "  (24999, 20963)\t1\n",
      "  (24999, 21416)\t1\n",
      "  (24999, 7110)\t1\n",
      "  (24999, 51437)\t1\n",
      "  (24999, 87760)\t1\n",
      "  (24999, 12852)\t1\n",
      "  (24999, 32155)\t1\n",
      "  (24999, 76115)\t1\n",
      "  (24999, 88076)\t1\n",
      "  (24999, 80448)\t1\n"
     ]
    }
   ],
   "source": [
    "print(feature_matrix_2)"
   ]
  },
  {
   "cell_type": "code",
   "execution_count": 38,
   "metadata": {},
   "outputs": [],
   "source": [
    "from sklearn.model_selection import train_test_split\n",
    "\n",
    "train_texts, dev_texts, train_labels, dev_labels=train_test_split(texts,labels,test_size=0.2)\n",
    "vectorizer=CountVectorizer(max_features=100000,binary=True,ngram_range=(1,2))\n",
    "feature_matrix_train_2=vectorizer.fit_transform(train_texts)\n",
    "feature_matrix_dev_2=vectorizer.transform(dev_texts)"
   ]
  },
  {
   "cell_type": "code",
   "execution_count": 32,
   "metadata": {},
   "outputs": [
    {
     "name": "stdout",
     "output_type": "stream",
     "text": [
      "(20000, 100000)\n",
      "(5000, 100000)\n"
     ]
    }
   ],
   "source": [
    "print(feature_matrix_train_2.shape)\n",
    "print(feature_matrix_dev_2.shape)"
   ]
  },
  {
   "cell_type": "code",
   "execution_count": 39,
   "metadata": {},
   "outputs": [
    {
     "name": "stdout",
     "output_type": "stream",
     "text": [
      "[LibLinear] for C =  5e-05\n",
      "devlopment score is: 0.8452\n",
      "train score is: 0.8652\n",
      "['neg' 'neg' 'neg' ... 'pos' 'pos' 'pos']\n",
      "confusion matrix is: [[2043  413]\n",
      " [ 361 2183]]\n",
      "accuracy score is: 0.8452\n",
      "----------------------------------------------------------------------\n",
      "[LibLinear] for C =  0.0005\n",
      "devlopment score is: 0.8792\n",
      "train score is: 0.9353\n",
      "['neg' 'pos' 'neg' ... 'pos' 'pos' 'pos']\n",
      "confusion matrix is: [[2130  326]\n",
      " [ 278 2266]]\n",
      "accuracy score is: 0.8792\n",
      "----------------------------------------------------------------------\n",
      "[LibLinear] for C =  0.005\n",
      "devlopment score is: 0.8918\n",
      "train score is: 0.99425\n",
      "['neg' 'pos' 'neg' ... 'pos' 'pos' 'neg']\n",
      "confusion matrix is: [[2171  285]\n",
      " [ 256 2288]]\n",
      "accuracy score is: 0.8918\n",
      "----------------------------------------------------------------------\n",
      "[LibLinear] for C =  0.05\n",
      "devlopment score is: 0.8862\n",
      "train score is: 1.0\n",
      "['neg' 'neg' 'neg' ... 'pos' 'pos' 'neg']\n",
      "confusion matrix is: [[2163  293]\n",
      " [ 276 2268]]\n",
      "accuracy score is: 0.8862\n",
      "----------------------------------------------------------------------\n",
      "[LibLinear] for C =  0.5\n",
      "devlopment score is: 0.8822\n",
      "train score is: 1.0\n",
      "['neg' 'neg' 'neg' ... 'pos' 'pos' 'neg']\n",
      "confusion matrix is: [[2156  300]\n",
      " [ 289 2255]]\n",
      "accuracy score is: 0.8822\n",
      "----------------------------------------------------------------------\n",
      "[LibLinear]"
     ]
    },
    {
     "name": "stderr",
     "output_type": "stream",
     "text": [
      "/home/nafis/envs/lib/python3.7/site-packages/sklearn/svm/_base.py:947: ConvergenceWarning: Liblinear failed to converge, increase the number of iterations.\n",
      "  \"the number of iterations.\", ConvergenceWarning)\n"
     ]
    },
    {
     "name": "stdout",
     "output_type": "stream",
     "text": [
      " for C =  5\n",
      "devlopment score is: 0.8814\n",
      "train score is: 1.0\n",
      "['neg' 'neg' 'neg' ... 'pos' 'pos' 'neg']\n",
      "confusion matrix is: [[2154  302]\n",
      " [ 291 2253]]\n",
      "accuracy score is: 0.8814\n",
      "----------------------------------------------------------------------\n",
      "[LibLinear] for C =  50\n",
      "devlopment score is: 0.8814\n",
      "train score is: 1.0\n",
      "['neg' 'neg' 'neg' ... 'pos' 'pos' 'neg']\n",
      "confusion matrix is: [[2154  302]\n",
      " [ 291 2253]]\n",
      "accuracy score is: 0.8814\n",
      "----------------------------------------------------------------------\n",
      "[LibLinear] for C =  0.001\n",
      "devlopment score is: 0.8854\n",
      "train score is: 0.95725\n",
      "['neg' 'pos' 'neg' ... 'pos' 'pos' 'neg']\n",
      "confusion matrix is: [[2151  305]\n",
      " [ 268 2276]]\n",
      "accuracy score is: 0.8854\n",
      "----------------------------------------------------------------------\n",
      "[LibLinear] for C =  0.025\n",
      "devlopment score is: 0.8902\n",
      "train score is: 0.99995\n",
      "['neg' 'neg' 'neg' ... 'pos' 'pos' 'neg']\n",
      "confusion matrix is: [[2170  286]\n",
      " [ 263 2281]]\n",
      "accuracy score is: 0.8902\n",
      "----------------------------------------------------------------------\n",
      "[LibLinear] for C =  0.01\n",
      "devlopment score is: 0.8928\n",
      "train score is: 0.99885\n",
      "['neg' 'pos' 'neg' ... 'pos' 'pos' 'neg']\n",
      "confusion matrix is: [[2175  281]\n",
      " [ 255 2289]]\n",
      "accuracy score is: 0.8928\n",
      "----------------------------------------------------------------------\n",
      "[LibLinear] for C =  0.02\n",
      "devlopment score is: 0.8912\n",
      "train score is: 0.99985\n",
      "['neg' 'neg' 'neg' ... 'pos' 'pos' 'neg']\n",
      "confusion matrix is: [[2176  280]\n",
      " [ 264 2280]]\n",
      "accuracy score is: 0.8912\n",
      "----------------------------------------------------------------------\n",
      "[LibLinear] for C =  0.03\n",
      "devlopment score is: 0.8894\n",
      "train score is: 0.99995\n",
      "['neg' 'neg' 'neg' ... 'pos' 'pos' 'neg']\n",
      "confusion matrix is: [[2170  286]\n",
      " [ 267 2277]]\n",
      "accuracy score is: 0.8894\n",
      "----------------------------------------------------------------------\n",
      "[LibLinear] for C =  0.04\n",
      "devlopment score is: 0.888\n",
      "train score is: 1.0\n",
      "['neg' 'neg' 'neg' ... 'pos' 'pos' 'neg']\n",
      "confusion matrix is: [[2165  291]\n",
      " [ 269 2275]]\n",
      "accuracy score is: 0.888\n",
      "----------------------------------------------------------------------\n",
      "[LibLinear] for C =  0.015\n",
      "devlopment score is: 0.8912\n",
      "train score is: 0.99955\n",
      "['neg' 'pos' 'neg' ... 'pos' 'pos' 'neg']\n",
      "confusion matrix is: [[2171  285]\n",
      " [ 259 2285]]\n",
      "accuracy score is: 0.8912\n",
      "----------------------------------------------------------------------\n",
      "[LibLinear] for C =  0.0025\n",
      "devlopment score is: 0.8906\n",
      "train score is: 0.98345\n",
      "['neg' 'pos' 'neg' ... 'pos' 'pos' 'neg']\n",
      "confusion matrix is: [[2169  287]\n",
      " [ 260 2284]]\n",
      "accuracy score is: 0.8906\n",
      "----------------------------------------------------------------------\n",
      "[LibLinear] for C =  0.00125\n",
      "devlopment score is: 0.8864\n",
      "train score is: 0.96545\n",
      "['neg' 'pos' 'neg' ... 'pos' 'pos' 'neg']\n",
      "confusion matrix is: [[2156  300]\n",
      " [ 268 2276]]\n",
      "accuracy score is: 0.8864\n",
      "----------------------------------------------------------------------\n",
      "[LibLinear] for C =  0.0008333333333333334\n",
      "devlopment score is: 0.8846\n",
      "train score is: 0.95205\n",
      "['neg' 'pos' 'neg' ... 'pos' 'pos' 'neg']\n",
      "confusion matrix is: [[2151  305]\n",
      " [ 272 2272]]\n",
      "accuracy score is: 0.8846\n",
      "----------------------------------------------------------------------\n",
      "[LibLinear] for C =  0.000625\n",
      "devlopment score is: 0.8834\n",
      "train score is: 0.94255\n",
      "['neg' 'pos' 'neg' ... 'pos' 'pos' 'pos']\n",
      "confusion matrix is: [[2144  312]\n",
      " [ 271 2273]]\n",
      "accuracy score is: 0.8834\n",
      "----------------------------------------------------------------------\n",
      "[LibLinear] for C =  0.0045\n",
      "devlopment score is: 0.8926\n",
      "train score is: 0.99295\n",
      "['neg' 'pos' 'neg' ... 'pos' 'pos' 'neg']\n",
      "confusion matrix is: [[2174  282]\n",
      " [ 255 2289]]\n",
      "accuracy score is: 0.8926\n",
      "----------------------------------------------------------------------\n",
      "[LibLinear] for C =  0.0055\n",
      "devlopment score is: 0.892\n",
      "train score is: 0.99505\n",
      "['neg' 'pos' 'neg' ... 'pos' 'pos' 'neg']\n",
      "confusion matrix is: [[2173  283]\n",
      " [ 257 2287]]\n",
      "accuracy score is: 0.892\n",
      "----------------------------------------------------------------------\n"
     ]
    }
   ],
   "source": [
    "dev_score_2 = []\n",
    "train_score_2 =[]\n",
    "import sklearn.metrics\n",
    "for c in [0.00005, 0.0005, 0.005, 0.05, 0.5, 5, 50] + [0.005/5,0.005*5] + [0.005*2 , 0.005*4, 0.005*6, .005*8, 0.015] + [0.005/2 , 0.005/4, 0.005/6, .005/8, 0.0045,0.0055 ]:\n",
    "    classifier=sklearn.svm.LinearSVC(C= c,verbose=1)\n",
    "    classifier.fit(feature_matrix_train_2, train_labels)\n",
    "    predictions_dev=classifier.predict(feature_matrix_dev_2)\n",
    "    print(' for C = ', c)\n",
    "    print('devlopment score is:', classifier.score(feature_matrix_dev_2, dev_labels))\n",
    "    print('train score is:', classifier.score(feature_matrix_train_2, train_labels))\n",
    "    print(predictions_dev)\n",
    "    print('confusion matrix is:', sklearn.metrics.confusion_matrix(dev_labels,predictions_dev))\n",
    "    print('accuracy score is:',sklearn.metrics.accuracy_score(dev_labels,predictions_dev))\n",
    "    dev_score_2.append(classifier.score(feature_matrix_dev_2, dev_labels))\n",
    "    train_score_2.append(classifier.score(feature_matrix_train_2, train_labels))\n",
    "    print('----------------------------------------------------------------------')"
   ]
  },
  {
   "cell_type": "code",
   "execution_count": 34,
   "metadata": {},
   "outputs": [
    {
     "data": {
      "image/png": "[encoded data removed]",
      "text/plain": [
       "<Figure size 1440x720 with 1 Axes>"
      ]
     },
     "metadata": {
      "needs_background": "light"
     },
     "output_type": "display_data"
    }
   ],
   "source": [
    "import matplotlib.pyplot as plt\n",
    "plt.figure(figsize=(20,10))\n",
    "# matplotlib.rc('xtick', labelsize=15) \n",
    "# matplotlib.rc('ytick', labelsize= 15)\n",
    "font = {'family' : 'Arial',\n",
    "        'weight' : 'bold',\n",
    "        'size'   : 22}\n",
    "\n",
    "plt.rc('font', **font)\n",
    "plt.title('Train and development scores VS C values')\n",
    "plt.xlabel('C')\n",
    "plt.ylabel('scores')\n",
    "cs = [0.00005, 0.0005, 0.005, 0.05, 0.5, 5, 50] + [0.005/5,0.005*5] + [0.005*2 , 0.005*4, 0.005*6, .005*8, 0.015]+ [0.005/2 , 0.005/4, 0.005/6, .005/8, 0.0045,0.0055 ]\n",
    "plt.plot(cs, dev_score, 'r*', cs, train_score, 'b^')\n",
    "plt.show()"
   ]
  },
  {
   "cell_type": "code",
   "execution_count": 48,
   "metadata": {},
   "outputs": [
    {
     "data": {
      "image/png": "[encoded data removed]",
      "text/plain": [
       "<Figure size 1440x720 with 1 Axes>"
      ]
     },
     "metadata": {
      "needs_background": "light"
     },
     "output_type": "display_data"
    }
   ],
   "source": [
    "### zoom a part of the scores which are close to gather\n",
    "plt.figure(figsize=(20,10))\n",
    "# matplotlib.rc('xtick', labelsize=15) \n",
    "# matplotlib.rc('ytick', labelsize= 15)\n",
    "font = {'family' : 'Arial',\n",
    "        'weight' : 'bold',\n",
    "        'size'   : 22}\n",
    "\n",
    "plt.rc('font', **font)\n",
    "plt.title('Train and development scores VS C values')\n",
    "plt.xlabel('C')\n",
    "plt.ylabel('scores')\n",
    "plt.xlim(0.0, 0.005)\n",
    "plt.ylim(0.4,1)\n",
    "cs = [0.00005, 0.0005, 0.005, 0.05, 0.5, 5, 50] + [0.005/5,0.005*5] + [0.005*2 , 0.005*4, 0.005*6, .005*8, 0.015] + [0.005/2 , 0.005/4, 0.005/6, .005/8, 0.0045,0.0055 ]\n",
    "plt.plot(cs, dev_score_2, 'r*', label = 'development score')\n",
    "plt.plot(cs, train_score_2, 'b^', label = 'train score')\n",
    "plt.legend()\n",
    "plt.show()\n"
   ]
  },
  {
   "cell_type": "markdown",
   "metadata": {},
   "source": [
    "#### lets try some other amount very close to zero like 0.000005, 0.00002, 0.00005,0.00007,0.0001"
   ]
  },
  {
   "cell_type": "code",
   "execution_count": 62,
   "metadata": {},
   "outputs": [
    {
     "name": "stdout",
     "output_type": "stream",
     "text": [
      "[LibLinear] for C =  5e-06\n",
      "devlopment score is: 0.7934\n",
      "train score is: 0.81385\n",
      "['neg' 'neg' 'neg' ... 'pos' 'pos' 'pos']\n",
      "confusion matrix is: [[2074  382]\n",
      " [ 651 1893]]\n",
      "accuracy score is: 0.7934\n",
      "----------------------------------------------------------------------\n",
      "[LibLinear] for C =  2e-05\n",
      "devlopment score is: 0.822\n",
      "train score is: 0.8412\n",
      "['neg' 'neg' 'neg' ... 'pos' 'pos' 'pos']\n",
      "confusion matrix is: [[2015  441]\n",
      " [ 449 2095]]\n",
      "accuracy score is: 0.822\n",
      "----------------------------------------------------------------------\n",
      "[LibLinear] for C =  5e-05\n",
      "devlopment score is: 0.8452\n",
      "train score is: 0.8652\n",
      "['neg' 'neg' 'neg' ... 'pos' 'pos' 'pos']\n",
      "confusion matrix is: [[2043  413]\n",
      " [ 361 2183]]\n",
      "accuracy score is: 0.8452\n",
      "----------------------------------------------------------------------\n",
      "[LibLinear] for C =  7e-05\n",
      "devlopment score is: 0.8552\n",
      "train score is: 0.8751\n",
      "['neg' 'neg' 'neg' ... 'pos' 'pos' 'pos']\n",
      "confusion matrix is: [[2064  392]\n",
      " [ 332 2212]]\n",
      "accuracy score is: 0.8552\n",
      "----------------------------------------------------------------------\n",
      "[LibLinear] for C =  0.0001\n",
      "devlopment score is: 0.8624\n",
      "train score is: 0.88365\n",
      "['neg' 'neg' 'neg' ... 'pos' 'pos' 'pos']\n",
      "confusion matrix is: [[2080  376]\n",
      " [ 312 2232]]\n",
      "accuracy score is: 0.8624\n",
      "----------------------------------------------------------------------\n",
      "[LibLinear] for C =  0.00015\n",
      "devlopment score is: 0.868\n",
      "train score is: 0.89615\n",
      "['neg' 'pos' 'neg' ... 'pos' 'pos' 'pos']\n",
      "confusion matrix is: [[2094  362]\n",
      " [ 298 2246]]\n",
      "accuracy score is: 0.868\n",
      "----------------------------------------------------------------------\n",
      "[LibLinear] for C =  0.0002\n",
      "devlopment score is: 0.8732\n",
      "train score is: 0.9046\n",
      "['neg' 'pos' 'neg' ... 'pos' 'pos' 'pos']\n",
      "confusion matrix is: [[2108  348]\n",
      " [ 286 2258]]\n",
      "accuracy score is: 0.8732\n",
      "----------------------------------------------------------------------\n",
      "[LibLinear] for C =  0.0003\n",
      "devlopment score is: 0.8764\n",
      "train score is: 0.91785\n",
      "['neg' 'pos' 'neg' ... 'pos' 'pos' 'pos']\n",
      "confusion matrix is: [[2119  337]\n",
      " [ 281 2263]]\n",
      "accuracy score is: 0.8764\n",
      "----------------------------------------------------------------------\n",
      "[LibLinear] for C =  0.0005\n",
      "devlopment score is: 0.8792\n",
      "train score is: 0.9353\n",
      "['neg' 'pos' 'neg' ... 'pos' 'pos' 'pos']\n",
      "confusion matrix is: [[2130  326]\n",
      " [ 278 2266]]\n",
      "accuracy score is: 0.8792\n",
      "----------------------------------------------------------------------\n"
     ]
    }
   ],
   "source": [
    "dev_score_22 = []\n",
    "train_score_22 =[]\n",
    "import sklearn.metrics\n",
    "for c in [0.000005, 0.00002, 0.00005,0.00007,0.0001,0.00015,0.0002,0.0003,0.0005]:\n",
    "    classifier=sklearn.svm.LinearSVC(C= c,verbose=1)\n",
    "    classifier.fit(feature_matrix_train_2, train_labels)\n",
    "    predictions_dev=classifier.predict(feature_matrix_dev_2)\n",
    "    print(' for C = ', c)\n",
    "    print('devlopment score is:', classifier.score(feature_matrix_dev_2, dev_labels))\n",
    "    print('train score is:', classifier.score(feature_matrix_train_2, train_labels))\n",
    "    print(predictions_dev)\n",
    "    print('confusion matrix is:', sklearn.metrics.confusion_matrix(dev_labels,predictions_dev))\n",
    "    print('accuracy score is:',sklearn.metrics.accuracy_score(dev_labels,predictions_dev))\n",
    "    dev_score_22.append(classifier.score(feature_matrix_dev_2, dev_labels))\n",
    "    train_score_22.append(classifier.score(feature_matrix_train_2, train_labels))\n",
    "    print('----------------------------------------------------------------------')"
   ]
  },
  {
   "cell_type": "code",
   "execution_count": 63,
   "metadata": {},
   "outputs": [
    {
     "data": {
      "image/png": "[encoded data removed]",
      "text/plain": [
       "<Figure size 1440x720 with 1 Axes>"
      ]
     },
     "metadata": {
      "needs_background": "light"
     },
     "output_type": "display_data"
    }
   ],
   "source": [
    "import matplotlib.pyplot as plt\n",
    "plt.figure(figsize=(20,10))\n",
    "# matplotlib.rc('xtick', labelsize=15) \n",
    "# matplotlib.rc('ytick', labelsize= 15)\n",
    "font = {'family' : 'Arial',\n",
    "        'weight' : 'bold',\n",
    "        'size'   : 22}\n",
    "\n",
    "plt.rc('font', **font)\n",
    "plt.title('Train and development scores VS C values')\n",
    "plt.xlabel('C')\n",
    "plt.ylabel('scores')\n",
    "cs = [0.000005, 0.00002, 0.00005,0.00007,0.0001,0.00015,0.0002,0.0003,0.0005]\n",
    "plt.plot(cs, dev_score_22, 'r*', label = 'development score')\n",
    "plt.plot(cs, train_score_22, 'b^', label = 'train score')\n",
    "plt.legend()\n",
    "plt.show()"
   ]
  },
  {
   "cell_type": "markdown",
   "metadata": {},
   "source": [
    "### ngram = (2,2)"
   ]
  },
  {
   "cell_type": "code",
   "execution_count": 64,
   "metadata": {},
   "outputs": [
    {
     "name": "stdout",
     "output_type": "stream",
     "text": [
      "shape= (25000, 100000)\n",
      "what did we get? -> <class 'scipy.sparse.csr.csr_matrix'>\n"
     ]
    }
   ],
   "source": [
    "## feature extraction with tfidfVectorizer\n",
    "from sklearn.feature_extraction.text import CountVectorizer\n",
    "vectorizer = CountVectorizer(max_features=100000,binary=True,ngram_range=(2,2))\n",
    "feature_matrix_3 = vectorizer.fit_transform(texts)\n",
    "print(\"shape=\",feature_matrix_3.shape)\n",
    "print(\"what did we get? ->\", feature_matrix_3.__class__)"
   ]
  },
  {
   "cell_type": "code",
   "execution_count": 65,
   "metadata": {
    "scrolled": true
   },
   "outputs": [
    {
     "name": "stdout",
     "output_type": "stream",
     "text": [
      "  (0, 86185)\t1\n",
      "  (0, 53471)\t1\n",
      "  (0, 42758)\t1\n",
      "  (0, 60511)\t1\n",
      "  (0, 59131)\t1\n",
      "  (0, 53871)\t1\n",
      "  (0, 56110)\t1\n",
      "  (0, 11916)\t1\n",
      "  (0, 44389)\t1\n",
      "  (0, 81140)\t1\n",
      "  (0, 33741)\t1\n",
      "  (0, 53550)\t1\n",
      "  (0, 57119)\t1\n",
      "  (0, 2594)\t1\n",
      "  (0, 87167)\t1\n",
      "  (0, 14802)\t1\n",
      "  (0, 44366)\t1\n",
      "  (0, 77005)\t1\n",
      "  (0, 51268)\t1\n",
      "  (0, 56379)\t1\n",
      "  (0, 60961)\t1\n",
      "  (0, 93413)\t1\n",
      "  (0, 44093)\t1\n",
      "  (0, 53297)\t1\n",
      "  (0, 14967)\t1\n",
      "  :\t:\n",
      "  (24999, 42219)\t1\n",
      "  (24999, 25239)\t1\n",
      "  (24999, 39033)\t1\n",
      "  (24999, 70653)\t1\n",
      "  (24999, 45646)\t1\n",
      "  (24999, 64604)\t1\n",
      "  (24999, 35248)\t1\n",
      "  (24999, 27096)\t1\n",
      "  (24999, 15166)\t1\n",
      "  (24999, 37365)\t1\n",
      "  (24999, 60812)\t1\n",
      "  (24999, 82152)\t1\n",
      "  (24999, 60825)\t1\n",
      "  (24999, 55630)\t1\n",
      "  (24999, 23003)\t1\n",
      "  (24999, 79906)\t1\n",
      "  (24999, 22239)\t1\n",
      "  (24999, 20653)\t1\n",
      "  (24999, 21095)\t1\n",
      "  (24999, 7531)\t1\n",
      "  (24999, 87294)\t1\n",
      "  (24999, 31273)\t1\n",
      "  (24999, 12681)\t1\n",
      "  (24999, 87615)\t1\n",
      "  (24999, 78664)\t1\n"
     ]
    }
   ],
   "source": [
    "print(feature_matrix_3)"
   ]
  },
  {
   "cell_type": "code",
   "execution_count": 66,
   "metadata": {},
   "outputs": [],
   "source": [
    "from sklearn.model_selection import train_test_split\n",
    "\n",
    "train_texts, dev_texts, train_labels, dev_labels=train_test_split(texts,labels,test_size=0.2)\n",
    "vectorizer=CountVectorizer(max_features=100000,binary=True,ngram_range=(2,2))\n",
    "feature_matrix_train_3=vectorizer.fit_transform(train_texts)\n",
    "feature_matrix_dev_3=vectorizer.transform(dev_texts)"
   ]
  },
  {
   "cell_type": "code",
   "execution_count": 67,
   "metadata": {},
   "outputs": [
    {
     "name": "stdout",
     "output_type": "stream",
     "text": [
      "(20000, 100000)\n",
      "(5000, 100000)\n"
     ]
    }
   ],
   "source": [
    "print(feature_matrix_train_3.shape)\n",
    "print(feature_matrix_dev_3.shape)"
   ]
  },
  {
   "cell_type": "code",
   "execution_count": 70,
   "metadata": {},
   "outputs": [
    {
     "name": "stdout",
     "output_type": "stream",
     "text": [
      "[LibLinear] for C =  5e-06\n",
      "devlopment score is: 0.7662\n",
      "train score is: 0.78025\n",
      "['pos' 'neg' 'neg' ... 'neg' 'neg' 'pos']\n",
      "confusion matrix is: [[2030  458]\n",
      " [ 711 1801]]\n",
      "accuracy score is: 0.7662\n",
      "----------------------------------------------------------------------\n",
      "[LibLinear] for C =  2e-05\n",
      "devlopment score is: 0.778\n",
      "train score is: 0.7979\n",
      "['pos' 'neg' 'neg' ... 'neg' 'neg' 'pos']\n",
      "confusion matrix is: [[1972  516]\n",
      " [ 594 1918]]\n",
      "accuracy score is: 0.778\n",
      "----------------------------------------------------------------------\n",
      "[LibLinear] for C =  5e-05\n",
      "devlopment score is: 0.795\n",
      "train score is: 0.81945\n",
      "['pos' 'neg' 'neg' ... 'neg' 'neg' 'pos']\n",
      "confusion matrix is: [[1976  512]\n",
      " [ 513 1999]]\n",
      "accuracy score is: 0.795\n",
      "----------------------------------------------------------------------\n",
      "[LibLinear] for C =  7e-05\n",
      "devlopment score is: 0.803\n",
      "train score is: 0.82955\n",
      "['pos' 'neg' 'neg' ... 'neg' 'neg' 'pos']\n",
      "confusion matrix is: [[1978  510]\n",
      " [ 475 2037]]\n",
      "accuracy score is: 0.803\n",
      "----------------------------------------------------------------------\n",
      "[LibLinear] for C =  0.0001\n",
      "devlopment score is: 0.8116\n",
      "train score is: 0.8421\n",
      "['pos' 'neg' 'neg' ... 'neg' 'neg' 'pos']\n",
      "confusion matrix is: [[1990  498]\n",
      " [ 444 2068]]\n",
      "accuracy score is: 0.8116\n",
      "----------------------------------------------------------------------\n",
      "[LibLinear] for C =  0.00015\n",
      "devlopment score is: 0.8268\n",
      "train score is: 0.85795\n",
      "['pos' 'neg' 'neg' ... 'neg' 'neg' 'pos']\n",
      "confusion matrix is: [[2010  478]\n",
      " [ 388 2124]]\n",
      "accuracy score is: 0.8268\n",
      "----------------------------------------------------------------------\n",
      "[LibLinear] for C =  0.0002\n",
      "devlopment score is: 0.8318\n",
      "train score is: 0.8695\n",
      "['pos' 'neg' 'neg' ... 'neg' 'neg' 'pos']\n",
      "confusion matrix is: [[2017  471]\n",
      " [ 370 2142]]\n",
      "accuracy score is: 0.8318\n",
      "----------------------------------------------------------------------\n",
      "[LibLinear] for C =  0.0003\n",
      "devlopment score is: 0.8412\n",
      "train score is: 0.8876\n",
      "['pos' 'neg' 'neg' ... 'neg' 'neg' 'pos']\n",
      "confusion matrix is: [[2044  444]\n",
      " [ 350 2162]]\n",
      "accuracy score is: 0.8412\n",
      "----------------------------------------------------------------------\n",
      "[LibLinear] for C =  0.0005\n",
      "devlopment score is: 0.8502\n",
      "train score is: 0.90905\n",
      "['pos' 'neg' 'neg' ... 'neg' 'neg' 'pos']\n",
      "confusion matrix is: [[2063  425]\n",
      " [ 324 2188]]\n",
      "accuracy score is: 0.8502\n",
      "----------------------------------------------------------------------\n",
      "[LibLinear] for C =  5e-05\n",
      "devlopment score is: 0.795\n",
      "train score is: 0.81945\n",
      "['pos' 'neg' 'neg' ... 'neg' 'neg' 'pos']\n",
      "confusion matrix is: [[1976  512]\n",
      " [ 513 1999]]\n",
      "accuracy score is: 0.795\n",
      "----------------------------------------------------------------------\n",
      "[LibLinear] for C =  0.0005\n",
      "devlopment score is: 0.8502\n",
      "train score is: 0.90905\n",
      "['pos' 'neg' 'neg' ... 'neg' 'neg' 'pos']\n",
      "confusion matrix is: [[2063  425]\n",
      " [ 324 2188]]\n",
      "accuracy score is: 0.8502\n",
      "----------------------------------------------------------------------\n",
      "[LibLinear] for C =  0.005\n",
      "devlopment score is: 0.8792\n",
      "train score is: 0.99125\n",
      "['neg' 'neg' 'neg' ... 'neg' 'neg' 'pos']\n",
      "confusion matrix is: [[2167  321]\n",
      " [ 283 2229]]\n",
      "accuracy score is: 0.8792\n",
      "----------------------------------------------------------------------\n",
      "[LibLinear] for C =  0.05\n",
      "devlopment score is: 0.8734\n",
      "train score is: 0.99995\n",
      "['neg' 'neg' 'neg' ... 'neg' 'neg' 'pos']\n",
      "confusion matrix is: [[2173  315]\n",
      " [ 318 2194]]\n",
      "accuracy score is: 0.8734\n",
      "----------------------------------------------------------------------\n",
      "[LibLinear] for C =  0.5\n",
      "devlopment score is: 0.8692\n",
      "train score is: 1.0\n",
      "['neg' 'neg' 'neg' ... 'neg' 'neg' 'pos']\n",
      "confusion matrix is: [[2164  324]\n",
      " [ 330 2182]]\n",
      "accuracy score is: 0.8692\n",
      "----------------------------------------------------------------------\n",
      "[LibLinear]"
     ]
    },
    {
     "name": "stderr",
     "output_type": "stream",
     "text": [
      "/home/nafis/envs/lib/python3.7/site-packages/sklearn/svm/_base.py:947: ConvergenceWarning: Liblinear failed to converge, increase the number of iterations.\n",
      "  \"the number of iterations.\", ConvergenceWarning)\n"
     ]
    },
    {
     "name": "stdout",
     "output_type": "stream",
     "text": [
      " for C =  5\n",
      "devlopment score is: 0.867\n",
      "train score is: 1.0\n",
      "['neg' 'neg' 'neg' ... 'neg' 'neg' 'pos']\n",
      "confusion matrix is: [[2157  331]\n",
      " [ 334 2178]]\n",
      "accuracy score is: 0.867\n",
      "----------------------------------------------------------------------\n",
      "[LibLinear] for C =  50\n",
      "devlopment score is: 0.8666\n",
      "train score is: 1.0\n",
      "['neg' 'neg' 'neg' ... 'neg' 'neg' 'pos']\n",
      "confusion matrix is: [[2156  332]\n",
      " [ 335 2177]]\n",
      "accuracy score is: 0.8666\n",
      "----------------------------------------------------------------------\n",
      "[LibLinear] for C =  0.001\n",
      "devlopment score is: 0.8638\n",
      "train score is: 0.9387\n",
      "['pos' 'neg' 'neg' ... 'neg' 'neg' 'pos']\n",
      "confusion matrix is: [[2118  370]\n",
      " [ 311 2201]]\n",
      "accuracy score is: 0.8638\n",
      "----------------------------------------------------------------------\n",
      "[LibLinear] for C =  0.025\n",
      "devlopment score is: 0.8774\n",
      "train score is: 0.99985\n",
      "['neg' 'neg' 'neg' ... 'neg' 'neg' 'pos']\n",
      "confusion matrix is: [[2184  304]\n",
      " [ 309 2203]]\n",
      "accuracy score is: 0.8774\n",
      "----------------------------------------------------------------------\n",
      "[LibLinear] for C =  0.01\n",
      "devlopment score is: 0.8798\n",
      "train score is: 0.9982\n",
      "['neg' 'neg' 'neg' ... 'neg' 'neg' 'pos']\n",
      "confusion matrix is: [[2181  307]\n",
      " [ 294 2218]]\n",
      "accuracy score is: 0.8798\n",
      "----------------------------------------------------------------------\n",
      "[LibLinear] for C =  0.02\n",
      "devlopment score is: 0.8778\n",
      "train score is: 0.99965\n",
      "['neg' 'neg' 'neg' ... 'neg' 'neg' 'pos']\n",
      "confusion matrix is: [[2179  309]\n",
      " [ 302 2210]]\n",
      "accuracy score is: 0.8778\n",
      "----------------------------------------------------------------------\n",
      "[LibLinear] for C =  0.03\n",
      "devlopment score is: 0.8752\n",
      "train score is: 0.99985\n",
      "['neg' 'neg' 'neg' ... 'neg' 'neg' 'pos']\n",
      "confusion matrix is: [[2176  312]\n",
      " [ 312 2200]]\n",
      "accuracy score is: 0.8752\n",
      "----------------------------------------------------------------------\n",
      "[LibLinear] for C =  0.04\n",
      "devlopment score is: 0.8742\n",
      "train score is: 0.99995\n",
      "['neg' 'neg' 'neg' ... 'neg' 'neg' 'pos']\n",
      "confusion matrix is: [[2175  313]\n",
      " [ 316 2196]]\n",
      "accuracy score is: 0.8742\n",
      "----------------------------------------------------------------------\n",
      "[LibLinear] for C =  0.015\n",
      "devlopment score is: 0.879\n",
      "train score is: 0.99935\n",
      "['neg' 'neg' 'neg' ... 'neg' 'neg' 'pos']\n",
      "confusion matrix is: [[2180  308]\n",
      " [ 297 2215]]\n",
      "accuracy score is: 0.879\n",
      "----------------------------------------------------------------------\n",
      "[LibLinear] for C =  0.0025\n",
      "devlopment score is: 0.8746\n",
      "train score is: 0.9743\n",
      "['pos' 'neg' 'neg' ... 'neg' 'neg' 'pos']\n",
      "confusion matrix is: [[2153  335]\n",
      " [ 292 2220]]\n",
      "accuracy score is: 0.8746\n",
      "----------------------------------------------------------------------\n",
      "[LibLinear] for C =  0.00125\n",
      "devlopment score is: 0.8692\n",
      "train score is: 0.94895\n",
      "['pos' 'neg' 'neg' ... 'neg' 'neg' 'pos']\n",
      "confusion matrix is: [[2137  351]\n",
      " [ 303 2209]]\n",
      "accuracy score is: 0.8692\n",
      "----------------------------------------------------------------------\n",
      "[LibLinear] for C =  0.0008333333333333334\n",
      "devlopment score is: 0.8598\n",
      "train score is: 0.9315\n",
      "['pos' 'neg' 'neg' ... 'neg' 'neg' 'pos']\n",
      "confusion matrix is: [[2103  385]\n",
      " [ 316 2196]]\n",
      "accuracy score is: 0.8598\n",
      "----------------------------------------------------------------------\n",
      "[LibLinear] for C =  0.000625\n",
      "devlopment score is: 0.8528\n",
      "train score is: 0.91815\n",
      "['pos' 'neg' 'neg' ... 'neg' 'neg' 'pos']\n",
      "confusion matrix is: [[2078  410]\n",
      " [ 326 2186]]\n",
      "accuracy score is: 0.8528\n",
      "----------------------------------------------------------------------\n",
      "[LibLinear] for C =  0.0045\n",
      "devlopment score is: 0.8786\n",
      "train score is: 0.9887\n",
      "['neg' 'neg' 'neg' ... 'neg' 'neg' 'pos']\n",
      "confusion matrix is: [[2168  320]\n",
      " [ 287 2225]]\n",
      "accuracy score is: 0.8786\n",
      "----------------------------------------------------------------------\n",
      "[LibLinear] for C =  0.0055\n",
      "devlopment score is: 0.8794\n",
      "train score is: 0.99245\n",
      "['neg' 'neg' 'neg' ... 'neg' 'neg' 'pos']\n",
      "confusion matrix is: [[2169  319]\n",
      " [ 284 2228]]\n",
      "accuracy score is: 0.8794\n",
      "----------------------------------------------------------------------\n"
     ]
    }
   ],
   "source": [
    "dev_score_3 = []\n",
    "train_score_3 =[]\n",
    "import sklearn.metrics\n",
    "for c in [0.000005, 0.00002, 0.00005,0.00007,0.0001,0.00015,0.0002,0.0003,0.0005]+[0.00005, 0.0005, 0.005, 0.05, 0.5, 5, 50] + [0.005/5,0.005*5] + [0.005*2 , 0.005*4, 0.005*6, .005*8, 0.015] + [0.005/2 , 0.005/4, 0.005/6, .005/8, 0.0045,0.0055 ]:\n",
    "    classifier=sklearn.svm.LinearSVC(C= c,verbose=1)\n",
    "    classifier.fit(feature_matrix_train_3, train_labels)\n",
    "    predictions_dev=classifier.predict(feature_matrix_dev_3)\n",
    "    print(' for C = ', c)\n",
    "    print('devlopment score is:', classifier.score(feature_matrix_dev_3, dev_labels))\n",
    "    print('train score is:', classifier.score(feature_matrix_train_3, train_labels))\n",
    "    print(predictions_dev)\n",
    "    print('confusion matrix is:', sklearn.metrics.confusion_matrix(dev_labels,predictions_dev))\n",
    "    print('accuracy score is:',sklearn.metrics.accuracy_score(dev_labels,predictions_dev))\n",
    "    dev_score_3.append(classifier.score(feature_matrix_dev_3, dev_labels))\n",
    "    train_score_3.append(classifier.score(feature_matrix_train_3, train_labels))\n",
    "    print('----------------------------------------------------------------------')"
   ]
  },
  {
   "cell_type": "code",
   "execution_count": 72,
   "metadata": {},
   "outputs": [
    {
     "data": {
      "image/png": "[encoded data removed]",
      "text/plain": [
       "<Figure size 1440x720 with 1 Axes>"
      ]
     },
     "metadata": {
      "needs_background": "light"
     },
     "output_type": "display_data"
    }
   ],
   "source": [
    "import matplotlib.pyplot as plt\n",
    "plt.figure(figsize=(20,10))\n",
    "# matplotlib.rc('xtick', labelsize=15) \n",
    "# matplotlib.rc('ytick', labelsize= 15)\n",
    "font = {'family' : 'Arial',\n",
    "        'weight' : 'bold',\n",
    "        'size'   : 22}\n",
    "\n",
    "plt.rc('font', **font)\n",
    "plt.title('Train and development scores VS C values')\n",
    "plt.xlabel('C')\n",
    "plt.ylabel('scores')\n",
    "cs = [0.000005, 0.00002, 0.00005,0.00007,0.0001,0.00015,0.0002,0.0003,0.0005]+[0.00005, 0.0005, 0.005, 0.05, 0.5, 5, 50] + [0.005/5,0.005*5] + [0.005*2 , 0.005*4, 0.005*6, .005*8, 0.015]+ [0.005/2 , 0.005/4, 0.005/6, .005/8, 0.0045,0.0055 ]\n",
    "plt.plot(cs, dev_score_3, 'r*', label = 'development score')\n",
    "plt.plot(cs, train_score_3, 'b^', label = 'train score')\n",
    "plt.legend()\n",
    "plt.show()"
   ]
  },
  {
   "cell_type": "code",
   "execution_count": 75,
   "metadata": {},
   "outputs": [
    {
     "data": {
      "image/png": "[encoded data removed]",
      "text/plain": [
       "<Figure size 1440x720 with 1 Axes>"
      ]
     },
     "metadata": {
      "needs_background": "light"
     },
     "output_type": "display_data"
    }
   ],
   "source": [
    "### zoom a part of the scores which are close to gather\n",
    "plt.figure(figsize=(20,10))\n",
    "# matplotlib.rc('xtick', labelsize=15) \n",
    "# matplotlib.rc('ytick', labelsize= 15)\n",
    "font = {'family' : 'Arial',\n",
    "        'weight' : 'bold',\n",
    "        'size'   : 22}\n",
    "\n",
    "plt.rc('font', **font)\n",
    "plt.title('Train and development scores VS C values')\n",
    "plt.xlabel('C')\n",
    "plt.ylabel('scores')\n",
    "plt.xlim(0.0, 0.001)\n",
    "plt.ylim(0.6,0.925)\n",
    "cs = [0.000005, 0.00002, 0.00005,0.00007,0.0001,0.00015,0.0002,0.0003,0.0005]+[0.00005, 0.0005, 0.005, 0.05, 0.5, 5, 50] + [0.005/5,0.005*5] + [0.005*2 , 0.005*4, 0.005*6, .005*8, 0.015] + [0.005/2 , 0.005/4, 0.005/6, .005/8, 0.0045,0.0055 ]\n",
    "plt.plot(cs, dev_score_3, 'r*', label = 'development score')\n",
    "plt.plot(cs, train_score_3, 'b^', label = 'train score')\n",
    "plt.legend()\n",
    "plt.show()\n"
   ]
  },
  {
   "cell_type": "markdown",
   "metadata": {},
   "source": [
    "### ngram = (1,3)"
   ]
  },
  {
   "cell_type": "code",
   "execution_count": 76,
   "metadata": {},
   "outputs": [
    {
     "name": "stdout",
     "output_type": "stream",
     "text": [
      "shape= (25000, 100000)\n",
      "what did we get? -> <class 'scipy.sparse.csr.csr_matrix'>\n"
     ]
    }
   ],
   "source": [
    "## feature extraction with tfidfVectorizer\n",
    "from sklearn.feature_extraction.text import CountVectorizer\n",
    "vectorizer = CountVectorizer(max_features=100000,binary=True,ngram_range=(1,3))\n",
    "feature_matrix_4 = vectorizer.fit_transform(texts)\n",
    "print(\"shape=\",feature_matrix_4.shape)\n",
    "print(\"what did we get? ->\", feature_matrix_4.__class__)"
   ]
  },
  {
   "cell_type": "code",
   "execution_count": 77,
   "metadata": {},
   "outputs": [
    {
     "name": "stdout",
     "output_type": "stream",
     "text": [
      "  (0, 84596)\t1\n",
      "  (0, 51762)\t1\n",
      "  (0, 40181)\t1\n",
      "  (0, 58838)\t1\n",
      "  (0, 55634)\t1\n",
      "  (0, 85722)\t1\n",
      "  (0, 98627)\t1\n",
      "  (0, 52552)\t1\n",
      "  (0, 54574)\t1\n",
      "  (0, 11125)\t1\n",
      "  (0, 42262)\t1\n",
      "  (0, 76929)\t1\n",
      "  (0, 32112)\t1\n",
      "  (0, 2205)\t1\n",
      "  (0, 86240)\t1\n",
      "  (0, 13681)\t1\n",
      "  (0, 74493)\t1\n",
      "  (0, 49830)\t1\n",
      "  (0, 59234)\t1\n",
      "  (0, 92724)\t1\n",
      "  (0, 58243)\t1\n",
      "  (0, 23427)\t1\n",
      "  (0, 14927)\t1\n",
      "  (0, 67145)\t1\n",
      "  (0, 67492)\t1\n",
      "  :\t:\n",
      "  (24999, 41872)\t1\n",
      "  (24999, 72364)\t1\n",
      "  (24999, 14312)\t1\n",
      "  (24999, 35636)\t1\n",
      "  (24999, 80435)\t1\n",
      "  (24999, 17903)\t1\n",
      "  (24999, 59321)\t1\n",
      "  (24999, 54176)\t1\n",
      "  (24999, 21769)\t1\n",
      "  (24999, 77664)\t1\n",
      "  (24999, 21006)\t1\n",
      "  (24999, 89635)\t1\n",
      "  (24999, 19510)\t1\n",
      "  (24999, 19822)\t1\n",
      "  (24999, 52546)\t1\n",
      "  (24999, 8007)\t1\n",
      "  (24999, 6984)\t1\n",
      "  (24999, 6985)\t1\n",
      "  (24999, 44720)\t1\n",
      "  (24999, 51873)\t1\n",
      "  (24999, 12498)\t1\n",
      "  (24999, 83516)\t1\n",
      "  (24999, 6069)\t1\n",
      "  (24999, 86680)\t1\n",
      "  (24999, 98524)\t1\n"
     ]
    }
   ],
   "source": [
    "print(feature_matrix_4)"
   ]
  },
  {
   "cell_type": "code",
   "execution_count": 79,
   "metadata": {},
   "outputs": [],
   "source": [
    "from sklearn.model_selection import train_test_split\n",
    "\n",
    "train_texts, dev_texts, train_labels, dev_labels=train_test_split(texts,labels,test_size=0.2)\n",
    "vectorizer=CountVectorizer(max_features=100000,binary=True,ngram_range=(1,3))\n",
    "feature_matrix_train_4=vectorizer.fit_transform(train_texts)\n",
    "feature_matrix_dev_4=vectorizer.transform(dev_texts)"
   ]
  },
  {
   "cell_type": "code",
   "execution_count": 80,
   "metadata": {},
   "outputs": [
    {
     "name": "stdout",
     "output_type": "stream",
     "text": [
      "(20000, 100000)\n",
      "(5000, 100000)\n"
     ]
    }
   ],
   "source": [
    "print(feature_matrix_train_4.shape)\n",
    "print(feature_matrix_dev_4.shape)"
   ]
  },
  {
   "cell_type": "code",
   "execution_count": 82,
   "metadata": {},
   "outputs": [
    {
     "name": "stdout",
     "output_type": "stream",
     "text": [
      "[LibLinear] for C =  5e-06\n",
      "devlopment score is: 0.8044\n",
      "train score is: 0.8167\n",
      "['neg' 'neg' 'neg' ... 'neg' 'neg' 'pos']\n",
      "confusion matrix is: [[2095  363]\n",
      " [ 615 1927]]\n",
      "accuracy score is: 0.8044\n",
      "----------------------------------------------------------------------\n",
      "[LibLinear] for C =  2e-05\n",
      "devlopment score is: 0.8334\n",
      "train score is: 0.8445\n",
      "['neg' 'pos' 'neg' ... 'neg' 'neg' 'pos']\n",
      "confusion matrix is: [[2044  414]\n",
      " [ 419 2123]]\n",
      "accuracy score is: 0.8334\n",
      "----------------------------------------------------------------------\n",
      "[LibLinear] for C =  5e-05\n",
      "devlopment score is: 0.8496\n",
      "train score is: 0.86925\n",
      "['neg' 'pos' 'neg' ... 'neg' 'neg' 'pos']\n",
      "confusion matrix is: [[2051  407]\n",
      " [ 345 2197]]\n",
      "accuracy score is: 0.8496\n",
      "----------------------------------------------------------------------\n",
      "[LibLinear] for C =  7e-05\n",
      "devlopment score is: 0.857\n",
      "train score is: 0.87835\n",
      "['neg' 'pos' 'neg' ... 'neg' 'neg' 'pos']\n",
      "confusion matrix is: [[2066  392]\n",
      " [ 323 2219]]\n",
      "accuracy score is: 0.857\n",
      "----------------------------------------------------------------------\n",
      "[LibLinear] for C =  0.0001\n",
      "devlopment score is: 0.8624\n",
      "train score is: 0.88805\n",
      "['neg' 'pos' 'neg' ... 'neg' 'neg' 'pos']\n",
      "confusion matrix is: [[2079  379]\n",
      " [ 309 2233]]\n",
      "accuracy score is: 0.8624\n",
      "----------------------------------------------------------------------\n",
      "[LibLinear] for C =  0.00015\n",
      "devlopment score is: 0.867\n",
      "train score is: 0.90045\n",
      "['neg' 'pos' 'neg' ... 'neg' 'neg' 'pos']\n",
      "confusion matrix is: [[2092  366]\n",
      " [ 299 2243]]\n",
      "accuracy score is: 0.867\n",
      "----------------------------------------------------------------------\n",
      "[LibLinear] for C =  0.0002\n",
      "devlopment score is: 0.8696\n",
      "train score is: 0.91005\n",
      "['neg' 'pos' 'neg' ... 'neg' 'neg' 'pos']\n",
      "confusion matrix is: [[2096  362]\n",
      " [ 290 2252]]\n",
      "accuracy score is: 0.8696\n",
      "----------------------------------------------------------------------\n",
      "[LibLinear] for C =  0.0003\n",
      "devlopment score is: 0.875\n",
      "train score is: 0.9219\n",
      "['neg' 'pos' 'neg' ... 'neg' 'neg' 'pos']\n",
      "confusion matrix is: [[2113  345]\n",
      " [ 280 2262]]\n",
      "accuracy score is: 0.875\n",
      "----------------------------------------------------------------------\n",
      "[LibLinear] for C =  0.0005\n",
      "devlopment score is: 0.8788\n",
      "train score is: 0.94085\n",
      "['neg' 'pos' 'neg' ... 'neg' 'neg' 'pos']\n",
      "confusion matrix is: [[2130  328]\n",
      " [ 278 2264]]\n",
      "accuracy score is: 0.8788\n",
      "----------------------------------------------------------------------\n",
      "[LibLinear] for C =  5e-05\n",
      "devlopment score is: 0.8496\n",
      "train score is: 0.86925\n",
      "['neg' 'pos' 'neg' ... 'neg' 'neg' 'pos']\n",
      "confusion matrix is: [[2051  407]\n",
      " [ 345 2197]]\n",
      "accuracy score is: 0.8496\n",
      "----------------------------------------------------------------------\n",
      "[LibLinear] for C =  0.0005\n",
      "devlopment score is: 0.8788\n",
      "train score is: 0.94085\n",
      "['neg' 'pos' 'neg' ... 'neg' 'neg' 'pos']\n",
      "confusion matrix is: [[2130  328]\n",
      " [ 278 2264]]\n",
      "accuracy score is: 0.8788\n",
      "----------------------------------------------------------------------\n",
      "[LibLinear] for C =  0.005\n",
      "devlopment score is: 0.8908\n",
      "train score is: 0.99705\n",
      "['neg' 'pos' 'neg' ... 'neg' 'neg' 'pos']\n",
      "confusion matrix is: [[2173  285]\n",
      " [ 261 2281]]\n",
      "accuracy score is: 0.8908\n",
      "----------------------------------------------------------------------\n",
      "[LibLinear] for C =  0.05\n",
      "devlopment score is: 0.885\n",
      "train score is: 1.0\n",
      "['neg' 'pos' 'pos' ... 'neg' 'neg' 'pos']\n",
      "confusion matrix is: [[2167  291]\n",
      " [ 284 2258]]\n",
      "accuracy score is: 0.885\n",
      "----------------------------------------------------------------------\n",
      "[LibLinear]"
     ]
    },
    {
     "name": "stderr",
     "output_type": "stream",
     "text": [
      "/home/nafis/envs/lib/python3.7/site-packages/sklearn/svm/_base.py:947: ConvergenceWarning: Liblinear failed to converge, increase the number of iterations.\n",
      "  \"the number of iterations.\", ConvergenceWarning)\n"
     ]
    },
    {
     "name": "stdout",
     "output_type": "stream",
     "text": [
      " for C =  0.5\n",
      "devlopment score is: 0.88\n",
      "train score is: 1.0\n",
      "['neg' 'pos' 'pos' ... 'neg' 'neg' 'pos']\n",
      "confusion matrix is: [[2152  306]\n",
      " [ 294 2248]]\n",
      "accuracy score is: 0.88\n",
      "----------------------------------------------------------------------\n",
      "[LibLinear] for C =  5\n",
      "devlopment score is: 0.8792\n",
      "train score is: 1.0\n",
      "['neg' 'pos' 'pos' ... 'neg' 'neg' 'pos']\n",
      "confusion matrix is: [[2148  310]\n",
      " [ 294 2248]]\n",
      "accuracy score is: 0.8792\n",
      "----------------------------------------------------------------------\n",
      "[LibLinear] for C =  50\n",
      "devlopment score is: 0.8792\n",
      "train score is: 1.0\n",
      "['neg' 'pos' 'pos' ... 'neg' 'neg' 'pos']\n",
      "confusion matrix is: [[2148  310]\n",
      " [ 294 2248]]\n",
      "accuracy score is: 0.8792\n",
      "----------------------------------------------------------------------\n",
      "[LibLinear] for C =  0.001\n",
      "devlopment score is: 0.8866\n",
      "train score is: 0.96425\n",
      "['neg' 'pos' 'neg' ... 'neg' 'neg' 'pos']\n",
      "confusion matrix is: [[2152  306]\n",
      " [ 261 2281]]\n",
      "accuracy score is: 0.8866\n",
      "----------------------------------------------------------------------\n",
      "[LibLinear] for C =  0.025\n",
      "devlopment score is: 0.8832\n",
      "train score is: 1.0\n",
      "['neg' 'pos' 'pos' ... 'neg' 'neg' 'pos']\n",
      "confusion matrix is: [[2162  296]\n",
      " [ 288 2254]]\n",
      "accuracy score is: 0.8832\n",
      "----------------------------------------------------------------------\n",
      "[LibLinear] for C =  0.01\n",
      "devlopment score is: 0.888\n",
      "train score is: 0.99935\n",
      "['neg' 'pos' 'neg' ... 'neg' 'neg' 'pos']\n",
      "confusion matrix is: [[2169  289]\n",
      " [ 271 2271]]\n",
      "accuracy score is: 0.888\n",
      "----------------------------------------------------------------------\n",
      "[LibLinear] for C =  0.02\n",
      "devlopment score is: 0.8844\n",
      "train score is: 0.9999\n",
      "['neg' 'pos' 'pos' ... 'neg' 'neg' 'pos']\n",
      "confusion matrix is: [[2162  296]\n",
      " [ 282 2260]]\n",
      "accuracy score is: 0.8844\n",
      "----------------------------------------------------------------------\n",
      "[LibLinear] for C =  0.03\n",
      "devlopment score is: 0.8838\n",
      "train score is: 1.0\n",
      "['neg' 'pos' 'pos' ... 'neg' 'neg' 'pos']\n",
      "confusion matrix is: [[2165  293]\n",
      " [ 288 2254]]\n",
      "accuracy score is: 0.8838\n",
      "----------------------------------------------------------------------\n",
      "[LibLinear] for C =  0.04\n",
      "devlopment score is: 0.885\n",
      "train score is: 1.0\n",
      "['neg' 'pos' 'pos' ... 'neg' 'neg' 'pos']\n",
      "confusion matrix is: [[2169  289]\n",
      " [ 286 2256]]\n",
      "accuracy score is: 0.885\n",
      "----------------------------------------------------------------------\n",
      "[LibLinear] for C =  0.015\n",
      "devlopment score is: 0.8844\n",
      "train score is: 0.9998\n",
      "['neg' 'pos' 'pos' ... 'neg' 'neg' 'pos']\n",
      "confusion matrix is: [[2159  299]\n",
      " [ 279 2263]]\n",
      "accuracy score is: 0.8844\n",
      "----------------------------------------------------------------------\n",
      "[LibLinear] for C =  0.0025\n",
      "devlopment score is: 0.8896\n",
      "train score is: 0.988\n",
      "['neg' 'pos' 'neg' ... 'neg' 'neg' 'pos']\n",
      "confusion matrix is: [[2168  290]\n",
      " [ 262 2280]]\n",
      "accuracy score is: 0.8896\n",
      "----------------------------------------------------------------------\n",
      "[LibLinear] for C =  0.00125\n",
      "devlopment score is: 0.8886\n",
      "train score is: 0.97095\n",
      "['neg' 'pos' 'neg' ... 'neg' 'neg' 'pos']\n",
      "confusion matrix is: [[2162  296]\n",
      " [ 261 2281]]\n",
      "accuracy score is: 0.8886\n",
      "----------------------------------------------------------------------\n",
      "[LibLinear] for C =  0.0008333333333333334\n",
      "devlopment score is: 0.885\n",
      "train score is: 0.9589\n",
      "['neg' 'pos' 'neg' ... 'neg' 'neg' 'pos']\n",
      "confusion matrix is: [[2145  313]\n",
      " [ 262 2280]]\n",
      "accuracy score is: 0.885\n",
      "----------------------------------------------------------------------\n",
      "[LibLinear] for C =  0.000625\n",
      "devlopment score is: 0.8818\n",
      "train score is: 0.9491\n",
      "['neg' 'pos' 'neg' ... 'neg' 'neg' 'pos']\n",
      "confusion matrix is: [[2138  320]\n",
      " [ 271 2271]]\n",
      "accuracy score is: 0.8818\n",
      "----------------------------------------------------------------------\n",
      "[LibLinear] for C =  0.0045\n",
      "devlopment score is: 0.8902\n",
      "train score is: 0.9961\n",
      "['neg' 'pos' 'neg' ... 'neg' 'neg' 'pos']\n",
      "confusion matrix is: [[2172  286]\n",
      " [ 263 2279]]\n",
      "accuracy score is: 0.8902\n",
      "----------------------------------------------------------------------\n",
      "[LibLinear] for C =  0.0055\n",
      "devlopment score is: 0.8904\n",
      "train score is: 0.99735\n",
      "['neg' 'pos' 'neg' ... 'neg' 'neg' 'pos']\n",
      "confusion matrix is: [[2173  285]\n",
      " [ 263 2279]]\n",
      "accuracy score is: 0.8904\n",
      "----------------------------------------------------------------------\n"
     ]
    }
   ],
   "source": [
    "dev_score_4 = []\n",
    "train_score_4 =[]\n",
    "import sklearn.metrics\n",
    "for c in [0.000005, 0.00002, 0.00005,0.00007,0.0001,0.00015,0.0002,0.0003,0.0005]+[0.00005, 0.0005, 0.005, 0.05, 0.5, 5, 50] + [0.005/5,0.005*5] + [0.005*2 , 0.005*4, 0.005*6, .005*8, 0.015] + [0.005/2 , 0.005/4, 0.005/6, .005/8, 0.0045,0.0055 ]:\n",
    "    classifier=sklearn.svm.LinearSVC(C= c,verbose=1)\n",
    "    classifier.fit(feature_matrix_train_4, train_labels)\n",
    "    predictions_dev=classifier.predict(feature_matrix_dev_4)\n",
    "    print(' for C = ', c)\n",
    "    print('devlopment score is:', classifier.score(feature_matrix_dev_4, dev_labels))\n",
    "    print('train score is:', classifier.score(feature_matrix_train_4, train_labels))\n",
    "    print(predictions_dev)\n",
    "    print('confusion matrix is:', sklearn.metrics.confusion_matrix(dev_labels,predictions_dev))\n",
    "    print('accuracy score is:',sklearn.metrics.accuracy_score(dev_labels,predictions_dev))\n",
    "    dev_score_4.append(classifier.score(feature_matrix_dev_4, dev_labels))\n",
    "    train_score_4.append(classifier.score(feature_matrix_train_4, train_labels))\n",
    "    print('----------------------------------------------------------------------')"
   ]
  },
  {
   "cell_type": "code",
   "execution_count": 83,
   "metadata": {},
   "outputs": [
    {
     "data": {
      "image/png": "[encoded data removed]",
      "text/plain": [
       "<Figure size 1440x720 with 1 Axes>"
      ]
     },
     "metadata": {
      "needs_background": "light"
     },
     "output_type": "display_data"
    }
   ],
   "source": [
    "import matplotlib.pyplot as plt\n",
    "plt.figure(figsize=(20,10))\n",
    "# matplotlib.rc('xtick', labelsize=15) \n",
    "# matplotlib.rc('ytick', labelsize= 15)\n",
    "font = {'family' : 'Arial',\n",
    "        'weight' : 'bold',\n",
    "        'size'   : 22}\n",
    "\n",
    "plt.rc('font', **font)\n",
    "plt.title('Train and development scores VS C values')\n",
    "plt.xlabel('C')\n",
    "plt.ylabel('scores')\n",
    "cs = [0.000005, 0.00002, 0.00005,0.00007,0.0001,0.00015,0.0002,0.0003,0.0005]+[0.00005, 0.0005, 0.005, 0.05, 0.5, 5, 50] + [0.005/5,0.005*5] + [0.005*2 , 0.005*4, 0.005*6, .005*8, 0.015]+ [0.005/2 , 0.005/4, 0.005/6, .005/8, 0.0045,0.0055 ]\n",
    "plt.plot(cs, dev_score_4, 'r*', label = 'development score')\n",
    "plt.plot(cs, train_score_4, 'b^', label = 'train score')\n",
    "plt.legend()\n",
    "plt.show()"
   ]
  },
  {
   "cell_type": "code",
   "execution_count": 87,
   "metadata": {},
   "outputs": [
    {
     "data": {
      "image/png": "[encoded data removed]",
      "text/plain": [
       "<Figure size 1440x720 with 1 Axes>"
      ]
     },
     "metadata": {
      "needs_background": "light"
     },
     "output_type": "display_data"
    }
   ],
   "source": [
    "### zoom a part of the scores which are close to gather\n",
    "plt.figure(figsize=(20,10))\n",
    "# matplotlib.rc('xtick', labelsize=15) \n",
    "# matplotlib.rc('ytick', labelsize= 15)\n",
    "font = {'family' : 'Arial',\n",
    "        'weight' : 'bold',\n",
    "        'size'   : 22}\n",
    "\n",
    "plt.rc('font', **font)\n",
    "plt.title('Train and development scores VS C values')\n",
    "plt.xlabel('C')\n",
    "plt.ylabel('scores')\n",
    "plt.xlim(0.0, 0.001)\n",
    "plt.ylim(0.8,0.925)\n",
    "cs = [0.000005, 0.00002, 0.00005,0.00007,0.0001,0.00015,0.0002,0.0003,0.0005]+[0.00005, 0.0005, 0.005, 0.05, 0.5, 5, 50] + [0.005/5,0.005*5] + [0.005*2 , 0.005*4, 0.005*6, .005*8, 0.015]+ [0.005/2 , 0.005/4, 0.005/6, .005/8, 0.0045,0.0055 ]\n",
    "plt.plot(cs, dev_score_4, 'r*', label = 'development score')\n",
    "plt.plot(cs, train_score_4, 'b^', label = 'train score')\n",
    "plt.legend()\n",
    "plt.show()\n"
   ]
  },
  {
   "cell_type": "markdown",
   "metadata": {},
   "source": [
    "As it can be seen, when the ngram_range is increased the optimum amount of C change to be smaller"
   ]
  },
  {
   "cell_type": "markdown",
   "metadata": {},
   "source": [
    "### Question 3. language recognition"
   ]
  },
  {
   "cell_type": "markdown",
   "metadata": {},
   "source": [
    "At first all the data is read from the files, and the data of development and train mixed up and shuffled then it was splitted and then the model was applied"
   ]
  },
  {
   "cell_type": "code",
   "execution_count": 17,
   "metadata": {},
   "outputs": [
    {
     "name": "stderr",
     "output_type": "stream",
     "text": [
      "/home/nafis/envs/lib/python3.7/site-packages/ipykernel_launcher.py:2: ParserWarning: Falling back to the 'python' engine because the 'c' engine does not support regex separators (separators > 1 char and different from '\\s+' are interpreted as regex); you can avoid this warning by specifying engine='python'.\n",
      "  \n",
      "/home/nafis/envs/lib/python3.7/site-packages/ipykernel_launcher.py:4: ParserWarning: Falling back to the 'python' engine because the 'c' engine does not support regex separators (separators > 1 char and different from '\\s+' are interpreted as regex); you can avoid this warning by specifying engine='python'.\n",
      "  after removing the cwd from sys.path.\n",
      "/home/nafis/envs/lib/python3.7/site-packages/ipykernel_launcher.py:6: ParserWarning: Falling back to the 'python' engine because the 'c' engine does not support regex separators (separators > 1 char and different from '\\s+' are interpreted as regex); you can avoid this warning by specifying engine='python'.\n",
      "  \n"
     ]
    }
   ],
   "source": [
    "# en_test = pd.read_csv(\"intro-to-nlp/language-identification/en_test.txt\",header=None,error_bad_lines=False)\n",
    "en_test = pd.read_csv(\"intro-to-nlp/language-identification/en_test.txt\",names=[\"Text\"],sep=\"delimiter\")\n",
    "en_test[\"Label\"] = \"en\"\n",
    "en_train = pd.read_csv(\"intro-to-nlp/language-identification/en_train.txt\",names=[\"Text\"],sep=\"delimiter\")\n",
    "en_train[\"Label\"] = \"en\"\n",
    "en_devel = pd.read_csv(\"intro-to-nlp/language-identification/en_devel.txt\",names=[\"Text\"],sep=\"delimiter\")\n",
    "en_devel[\"Label\"] = \"en\""
   ]
  },
  {
   "cell_type": "code",
   "execution_count": 18,
   "metadata": {},
   "outputs": [
    {
     "name": "stdout",
     "output_type": "stream",
     "text": [
      "en:\n",
      " (1000, 2) (1000, 2) (1000, 2)\n"
     ]
    }
   ],
   "source": [
    "print(\"en:\\n\",en_test.shape,en_train.shape,en_devel.shape)"
   ]
  },
  {
   "cell_type": "code",
   "execution_count": 19,
   "metadata": {},
   "outputs": [
    {
     "data": {
      "text/html": [
       "<div>\n",
       "<style scoped>\n",
       "    .dataframe tbody tr th:only-of-type {\n",
       "        vertical-align: middle;\n",
       "    }\n",
       "\n",
       "    .dataframe tbody tr th {\n",
       "        vertical-align: top;\n",
       "    }\n",
       "\n",
       "    .dataframe thead th {\n",
       "        text-align: right;\n",
       "    }\n",
       "</style>\n",
       "<table border=\"1\" class=\"dataframe\">\n",
       "  <thead>\n",
       "    <tr style=\"text-align: right;\">\n",
       "      <th></th>\n",
       "      <th>Text</th>\n",
       "      <th>Label</th>\n",
       "    </tr>\n",
       "  </thead>\n",
       "  <tbody>\n",
       "    <tr>\n",
       "      <th>0</th>\n",
       "      <td>But I had my cat spayed through their reduced/...</td>\n",
       "      <td>en</td>\n",
       "    </tr>\n",
       "    <tr>\n",
       "      <th>1</th>\n",
       "      <td>I'm watching for some good vacation days, also...</td>\n",
       "      <td>en</td>\n",
       "    </tr>\n",
       "    <tr>\n",
       "      <th>2</th>\n",
       "      <td>I did not have a good experience w/ Dr. Ghasse...</td>\n",
       "      <td>en</td>\n",
       "    </tr>\n",
       "    <tr>\n",
       "      <th>3</th>\n",
       "      <td>I don't think it will be hard to keep his weig...</td>\n",
       "      <td>en</td>\n",
       "    </tr>\n",
       "    <tr>\n",
       "      <th>4</th>\n",
       "      <td>The store manager, Jim Smith, made an excellen...</td>\n",
       "      <td>en</td>\n",
       "    </tr>\n",
       "  </tbody>\n",
       "</table>\n",
       "</div>"
      ],
      "text/plain": [
       "                                                Text Label\n",
       "0  But I had my cat spayed through their reduced/...    en\n",
       "1  I'm watching for some good vacation days, also...    en\n",
       "2  I did not have a good experience w/ Dr. Ghasse...    en\n",
       "3  I don't think it will be hard to keep his weig...    en\n",
       "4  The store manager, Jim Smith, made an excellen...    en"
      ]
     },
     "execution_count": 19,
     "metadata": {},
     "output_type": "execute_result"
    }
   ],
   "source": [
    "en_test.head()"
   ]
  },
  {
   "cell_type": "code",
   "execution_count": 20,
   "metadata": {},
   "outputs": [
    {
     "data": {
      "text/plain": [
       "'He allegedly was at one or more meetings in the Summer of 2001 in Pakistan at which KSM and Sufaat were present.'"
      ]
     },
     "execution_count": 20,
     "metadata": {},
     "output_type": "execute_result"
    }
   ],
   "source": [
    "# An example of a sentence\n",
    "en_test.iloc[999,0]"
   ]
  },
  {
   "cell_type": "code",
   "execution_count": 21,
   "metadata": {},
   "outputs": [
    {
     "data": {
      "text/html": [
       "<div>\n",
       "<style scoped>\n",
       "    .dataframe tbody tr th:only-of-type {\n",
       "        vertical-align: middle;\n",
       "    }\n",
       "\n",
       "    .dataframe tbody tr th {\n",
       "        vertical-align: top;\n",
       "    }\n",
       "\n",
       "    .dataframe thead th {\n",
       "        text-align: right;\n",
       "    }\n",
       "</style>\n",
       "<table border=\"1\" class=\"dataframe\">\n",
       "  <thead>\n",
       "    <tr style=\"text-align: right;\">\n",
       "      <th></th>\n",
       "      <th>Text</th>\n",
       "      <th>Label</th>\n",
       "    </tr>\n",
       "  </thead>\n",
       "  <tbody>\n",
       "    <tr>\n",
       "      <th>0</th>\n",
       "      <td>Since September 11, Pakistan has been repeated...</td>\n",
       "      <td>en</td>\n",
       "    </tr>\n",
       "    <tr>\n",
       "      <th>1</th>\n",
       "      <td>07/17/2000 04:28 PM</td>\n",
       "      <td>en</td>\n",
       "    </tr>\n",
       "    <tr>\n",
       "      <th>2</th>\n",
       "      <td>Set up last month to centralize merchant asset...</td>\n",
       "      <td>en</td>\n",
       "    </tr>\n",
       "    <tr>\n",
       "      <th>3</th>\n",
       "      <td>Justin</td>\n",
       "      <td>en</td>\n",
       "    </tr>\n",
       "    <tr>\n",
       "      <th>4</th>\n",
       "      <td>This is however a very busy shop but there are...</td>\n",
       "      <td>en</td>\n",
       "    </tr>\n",
       "  </tbody>\n",
       "</table>\n",
       "</div>"
      ],
      "text/plain": [
       "                                                Text Label\n",
       "0  Since September 11, Pakistan has been repeated...    en\n",
       "1                                07/17/2000 04:28 PM    en\n",
       "2  Set up last month to centralize merchant asset...    en\n",
       "3                                             Justin    en\n",
       "4  This is however a very busy shop but there are...    en"
      ]
     },
     "execution_count": 21,
     "metadata": {},
     "output_type": "execute_result"
    }
   ],
   "source": [
    "en_train.head()"
   ]
  },
  {
   "cell_type": "code",
   "execution_count": 22,
   "metadata": {},
   "outputs": [
    {
     "data": {
      "text/html": [
       "<div>\n",
       "<style scoped>\n",
       "    .dataframe tbody tr th:only-of-type {\n",
       "        vertical-align: middle;\n",
       "    }\n",
       "\n",
       "    .dataframe tbody tr th {\n",
       "        vertical-align: top;\n",
       "    }\n",
       "\n",
       "    .dataframe thead th {\n",
       "        text-align: right;\n",
       "    }\n",
       "</style>\n",
       "<table border=\"1\" class=\"dataframe\">\n",
       "  <thead>\n",
       "    <tr style=\"text-align: right;\">\n",
       "      <th></th>\n",
       "      <th>Text</th>\n",
       "      <th>Label</th>\n",
       "    </tr>\n",
       "  </thead>\n",
       "  <tbody>\n",
       "    <tr>\n",
       "      <th>0</th>\n",
       "      <td>Let me know if you have any questions.</td>\n",
       "      <td>en</td>\n",
       "    </tr>\n",
       "    <tr>\n",
       "      <th>1</th>\n",
       "      <td>Obudu cattle ranch.</td>\n",
       "      <td>en</td>\n",
       "    </tr>\n",
       "    <tr>\n",
       "      <th>2</th>\n",
       "      <td>Used as a help for horses that are quite stron...</td>\n",
       "      <td>en</td>\n",
       "    </tr>\n",
       "    <tr>\n",
       "      <th>3</th>\n",
       "      <td>See below.</td>\n",
       "      <td>en</td>\n",
       "    </tr>\n",
       "    <tr>\n",
       "      <th>4</th>\n",
       "      <td>Its projected demand, boosted by a huge rise i...</td>\n",
       "      <td>en</td>\n",
       "    </tr>\n",
       "  </tbody>\n",
       "</table>\n",
       "</div>"
      ],
      "text/plain": [
       "                                                Text Label\n",
       "0             Let me know if you have any questions.    en\n",
       "1                                Obudu cattle ranch.    en\n",
       "2  Used as a help for horses that are quite stron...    en\n",
       "3                                         See below.    en\n",
       "4  Its projected demand, boosted by a huge rise i...    en"
      ]
     },
     "execution_count": 22,
     "metadata": {},
     "output_type": "execute_result"
    }
   ],
   "source": [
    "en_devel.head()\n"
   ]
  },
  {
   "cell_type": "code",
   "execution_count": 23,
   "metadata": {},
   "outputs": [
    {
     "name": "stderr",
     "output_type": "stream",
     "text": [
      "/home/nafis/envs/lib/python3.7/site-packages/ipykernel_launcher.py:1: ParserWarning: Falling back to the 'python' engine because the 'c' engine does not support regex separators (separators > 1 char and different from '\\s+' are interpreted as regex); you can avoid this warning by specifying engine='python'.\n",
      "  \"\"\"Entry point for launching an IPython kernel.\n",
      "/home/nafis/envs/lib/python3.7/site-packages/ipykernel_launcher.py:3: ParserWarning: Falling back to the 'python' engine because the 'c' engine does not support regex separators (separators > 1 char and different from '\\s+' are interpreted as regex); you can avoid this warning by specifying engine='python'.\n",
      "  This is separate from the ipykernel package so we can avoid doing imports until\n",
      "/home/nafis/envs/lib/python3.7/site-packages/ipykernel_launcher.py:5: ParserWarning: Falling back to the 'python' engine because the 'c' engine does not support regex separators (separators > 1 char and different from '\\s+' are interpreted as regex); you can avoid this warning by specifying engine='python'.\n",
      "  \"\"\"\n",
      "/home/nafis/envs/lib/python3.7/site-packages/ipykernel_launcher.py:8: ParserWarning: Falling back to the 'python' engine because the 'c' engine does not support regex separators (separators > 1 char and different from '\\s+' are interpreted as regex); you can avoid this warning by specifying engine='python'.\n",
      "  \n",
      "/home/nafis/envs/lib/python3.7/site-packages/ipykernel_launcher.py:10: ParserWarning: Falling back to the 'python' engine because the 'c' engine does not support regex separators (separators > 1 char and different from '\\s+' are interpreted as regex); you can avoid this warning by specifying engine='python'.\n",
      "  # Remove the CWD from sys.path while we load stuff.\n",
      "/home/nafis/envs/lib/python3.7/site-packages/ipykernel_launcher.py:12: ParserWarning: Falling back to the 'python' engine because the 'c' engine does not support regex separators (separators > 1 char and different from '\\s+' are interpreted as regex); you can avoid this warning by specifying engine='python'.\n",
      "  if sys.path[0] == '':\n",
      "/home/nafis/envs/lib/python3.7/site-packages/ipykernel_launcher.py:15: ParserWarning: Falling back to the 'python' engine because the 'c' engine does not support regex separators (separators > 1 char and different from '\\s+' are interpreted as regex); you can avoid this warning by specifying engine='python'.\n",
      "  from ipykernel import kernelapp as app\n",
      "/home/nafis/envs/lib/python3.7/site-packages/ipykernel_launcher.py:17: ParserWarning: Falling back to the 'python' engine because the 'c' engine does not support regex separators (separators > 1 char and different from '\\s+' are interpreted as regex); you can avoid this warning by specifying engine='python'.\n",
      "/home/nafis/envs/lib/python3.7/site-packages/ipykernel_launcher.py:19: ParserWarning: Falling back to the 'python' engine because the 'c' engine does not support regex separators (separators > 1 char and different from '\\s+' are interpreted as regex); you can avoid this warning by specifying engine='python'.\n",
      "/home/nafis/envs/lib/python3.7/site-packages/ipykernel_launcher.py:22: ParserWarning: Falling back to the 'python' engine because the 'c' engine does not support regex separators (separators > 1 char and different from '\\s+' are interpreted as regex); you can avoid this warning by specifying engine='python'.\n",
      "/home/nafis/envs/lib/python3.7/site-packages/ipykernel_launcher.py:24: ParserWarning: Falling back to the 'python' engine because the 'c' engine does not support regex separators (separators > 1 char and different from '\\s+' are interpreted as regex); you can avoid this warning by specifying engine='python'.\n",
      "/home/nafis/envs/lib/python3.7/site-packages/ipykernel_launcher.py:26: ParserWarning: Falling back to the 'python' engine because the 'c' engine does not support regex separators (separators > 1 char and different from '\\s+' are interpreted as regex); you can avoid this warning by specifying engine='python'.\n"
     ]
    }
   ],
   "source": [
    "es_test = pd.read_csv(\"intro-to-nlp/language-identification/es_test.txt\",names=[\"Text\"],sep=\"delimiter\")\n",
    "es_test[\"Label\"] = \"es\"\n",
    "es_train = pd.read_csv(\"intro-to-nlp/language-identification/es_train.txt\",names=[\"Text\"],sep=\"delimiter\")\n",
    "es_train[\"Label\"] = \"es\"\n",
    "es_devel = pd.read_csv(\"intro-to-nlp/language-identification/es_devel.txt\",names=[\"Text\"],sep=\"delimiter\")\n",
    "es_devel[\"Label\"] = \"es\"\n",
    "\n",
    "et_test = pd.read_csv(\"intro-to-nlp/language-identification/et_test.txt\",names=[\"Text\"],sep=\"delimiter\")\n",
    "et_test[\"Label\"] = \"et\"\n",
    "et_train = pd.read_csv(\"intro-to-nlp/language-identification/et_train.txt\",names=[\"Text\"],sep=\"delimiter\")\n",
    "et_train[\"Label\"] = \"et\"\n",
    "et_devel = pd.read_csv(\"intro-to-nlp/language-identification/et_devel.txt\",names=[\"Text\"],sep=\"delimiter\")\n",
    "et_devel[\"Label\"] = \"et\"\n",
    "\n",
    "fi_test = pd.read_csv(\"intro-to-nlp/language-identification/fi_test.txt\",names=[\"Text\"],sep=\"delimiter\")\n",
    "fi_test[\"Label\"] = \"fi\"\n",
    "fi_train = pd.read_csv(\"intro-to-nlp/language-identification/fi_train.txt\",names=[\"Text\"],sep=\"delimiter\")\n",
    "fi_train[\"Label\"] = \"fi\"\n",
    "fi_devel = pd.read_csv(\"intro-to-nlp/language-identification/fi_devel.txt\",names=[\"Text\"],sep=\"delimiter\")\n",
    "fi_devel[\"Label\"] = \"fi\"\n",
    "\n",
    "pt_test = pd.read_csv(\"intro-to-nlp/language-identification/pt_test.txt\",names=[\"Text\"],sep=\"delimiter\")\n",
    "pt_test[\"Label\"] = \"pt\"\n",
    "pt_train = pd.read_csv(\"intro-to-nlp/language-identification/pt_train.txt\",names=[\"Text\"],sep=\"delimiter\")\n",
    "pt_train[\"Label\"] = \"pt\"\n",
    "pt_devel = pd.read_csv(\"intro-to-nlp/language-identification/pt_devel.txt\",names=[\"Text\"],sep=\"delimiter\")\n",
    "pt_devel[\"Label\"] = \"pt\""
   ]
  },
  {
   "cell_type": "code",
   "execution_count": 24,
   "metadata": {},
   "outputs": [
    {
     "name": "stdout",
     "output_type": "stream",
     "text": [
      "es:\n",
      " (1000, 2) (1000, 2) (1000, 2)\n",
      "et:\n",
      " (1000, 2) (1000, 2) (1000, 2)\n",
      "fi:\n",
      " (1000, 2) (1000, 2) (1000, 2)\n",
      "pt:\n",
      " (1000, 2) (1000, 2) (1000, 2)\n"
     ]
    }
   ],
   "source": [
    "print(\"es:\\n\",es_test.shape,es_train.shape,es_devel.shape)\n",
    "print(\"et:\\n\",et_test.shape,et_train.shape,et_devel.shape)\n",
    "print(\"fi:\\n\",fi_test.shape,fi_train.shape,fi_devel.shape)\n",
    "print(\"pt:\\n\",pt_test.shape,pt_train.shape,pt_devel.shape)"
   ]
  },
  {
   "cell_type": "code",
   "execution_count": 25,
   "metadata": {},
   "outputs": [],
   "source": [
    "# Merging the test dataframes\n",
    "data_test = pd.concat([en_test,es_test,et_test,fi_test,pt_test],axis=0)\n",
    "data_test = data_test.sample(frac=1).reset_index(drop=True)\n",
    "\n",
    "# Merging the train dataframes\n",
    "data_train = pd.concat([en_train,es_train,et_train,fi_train,pt_train],axis=0)\n",
    "data_train = data_train.sample(frac=1).reset_index(drop=True)\n",
    "\n",
    "# Merging the devel dataframes\n",
    "data_devel = pd.concat([en_devel,es_devel,et_devel,fi_devel,pt_devel],axis=0)\n",
    "data_devel = data_devel.sample(frac=1).reset_index(drop=True)"
   ]
  },
  {
   "cell_type": "code",
   "execution_count": 26,
   "metadata": {},
   "outputs": [
    {
     "data": {
      "text/html": [
       "<div>\n",
       "<style scoped>\n",
       "    .dataframe tbody tr th:only-of-type {\n",
       "        vertical-align: middle;\n",
       "    }\n",
       "\n",
       "    .dataframe tbody tr th {\n",
       "        vertical-align: top;\n",
       "    }\n",
       "\n",
       "    .dataframe thead th {\n",
       "        text-align: right;\n",
       "    }\n",
       "</style>\n",
       "<table border=\"1\" class=\"dataframe\">\n",
       "  <thead>\n",
       "    <tr style=\"text-align: right;\">\n",
       "      <th></th>\n",
       "      <th>Text</th>\n",
       "      <th>Label</th>\n",
       "    </tr>\n",
       "  </thead>\n",
       "  <tbody>\n",
       "    <tr>\n",
       "      <th>0</th>\n",
       "      <td>As questões mais complicadas estão ainda sobre...</td>\n",
       "      <td>pt</td>\n",
       "    </tr>\n",
       "    <tr>\n",
       "      <th>1</th>\n",
       "      <td>Kaikki saivat ranne-, nilkka- ja kaulakorun ja...</td>\n",
       "      <td>fi</td>\n",
       "    </tr>\n",
       "    <tr>\n",
       "      <th>2</th>\n",
       "      <td>Unfortunalty my husband and I had to put our 1...</td>\n",
       "      <td>en</td>\n",
       "    </tr>\n",
       "    <tr>\n",
       "      <th>3</th>\n",
       "      <td>Seega lisandub Tallinnale“ provintsis” veel 60...</td>\n",
       "      <td>et</td>\n",
       "    </tr>\n",
       "    <tr>\n",
       "      <th>4</th>\n",
       "      <td>ML: Oluline ei ole omandivorm, vaid ülikooli t...</td>\n",
       "      <td>et</td>\n",
       "    </tr>\n",
       "  </tbody>\n",
       "</table>\n",
       "</div>"
      ],
      "text/plain": [
       "                                                Text Label\n",
       "0  As questões mais complicadas estão ainda sobre...    pt\n",
       "1  Kaikki saivat ranne-, nilkka- ja kaulakorun ja...    fi\n",
       "2  Unfortunalty my husband and I had to put our 1...    en\n",
       "3  Seega lisandub Tallinnale“ provintsis” veel 60...    et\n",
       "4  ML: Oluline ei ole omandivorm, vaid ülikooli t...    et"
      ]
     },
     "execution_count": 26,
     "metadata": {},
     "output_type": "execute_result"
    }
   ],
   "source": [
    "data_test.head()"
   ]
  },
  {
   "cell_type": "code",
   "execution_count": 27,
   "metadata": {},
   "outputs": [
    {
     "data": {
      "text/html": [
       "<div>\n",
       "<style scoped>\n",
       "    .dataframe tbody tr th:only-of-type {\n",
       "        vertical-align: middle;\n",
       "    }\n",
       "\n",
       "    .dataframe tbody tr th {\n",
       "        vertical-align: top;\n",
       "    }\n",
       "\n",
       "    .dataframe thead th {\n",
       "        text-align: right;\n",
       "    }\n",
       "</style>\n",
       "<table border=\"1\" class=\"dataframe\">\n",
       "  <thead>\n",
       "    <tr style=\"text-align: right;\">\n",
       "      <th></th>\n",
       "      <th>Text</th>\n",
       "      <th>Label</th>\n",
       "    </tr>\n",
       "  </thead>\n",
       "  <tbody>\n",
       "    <tr>\n",
       "      <th>4995</th>\n",
       "      <td>Las ideas de Mao se consolidarían como ideolog...</td>\n",
       "      <td>es</td>\n",
       "    </tr>\n",
       "    <tr>\n",
       "      <th>4996</th>\n",
       "      <td>We are from Virginia and just moved here a yea...</td>\n",
       "      <td>en</td>\n",
       "    </tr>\n",
       "    <tr>\n",
       "      <th>4997</th>\n",
       "      <td>To promote one of the most trivial interests w...</td>\n",
       "      <td>en</td>\n",
       "    </tr>\n",
       "    <tr>\n",
       "      <th>4998</th>\n",
       "      <td>Panga presidendi funktsioonid on väga rangetes...</td>\n",
       "      <td>et</td>\n",
       "    </tr>\n",
       "    <tr>\n",
       "      <th>4999</th>\n",
       "      <td>I've read the materials you sent and agree we ...</td>\n",
       "      <td>en</td>\n",
       "    </tr>\n",
       "  </tbody>\n",
       "</table>\n",
       "</div>"
      ],
      "text/plain": [
       "                                                   Text Label\n",
       "4995  Las ideas de Mao se consolidarían como ideolog...    es\n",
       "4996  We are from Virginia and just moved here a yea...    en\n",
       "4997  To promote one of the most trivial interests w...    en\n",
       "4998  Panga presidendi funktsioonid on väga rangetes...    et\n",
       "4999  I've read the materials you sent and agree we ...    en"
      ]
     },
     "execution_count": 27,
     "metadata": {},
     "output_type": "execute_result"
    }
   ],
   "source": [
    "data_train.tail()"
   ]
  },
  {
   "cell_type": "code",
   "execution_count": 28,
   "metadata": {},
   "outputs": [
    {
     "data": {
      "text/html": [
       "<div>\n",
       "<style scoped>\n",
       "    .dataframe tbody tr th:only-of-type {\n",
       "        vertical-align: middle;\n",
       "    }\n",
       "\n",
       "    .dataframe tbody tr th {\n",
       "        vertical-align: top;\n",
       "    }\n",
       "\n",
       "    .dataframe thead th {\n",
       "        text-align: right;\n",
       "    }\n",
       "</style>\n",
       "<table border=\"1\" class=\"dataframe\">\n",
       "  <thead>\n",
       "    <tr style=\"text-align: right;\">\n",
       "      <th></th>\n",
       "      <th>Text</th>\n",
       "      <th>Label</th>\n",
       "    </tr>\n",
       "  </thead>\n",
       "  <tbody>\n",
       "    <tr>\n",
       "      <th>101</th>\n",
       "      <td>Sunshine Coast, British Columbia, Canada</td>\n",
       "      <td>en</td>\n",
       "    </tr>\n",
       "    <tr>\n",
       "      <th>102</th>\n",
       "      <td>Emma is fine, too- very well!!</td>\n",
       "      <td>en</td>\n",
       "    </tr>\n",
       "    <tr>\n",
       "      <th>103</th>\n",
       "      <td>E até pode não saber quem é...</td>\n",
       "      <td>pt</td>\n",
       "    </tr>\n",
       "    <tr>\n",
       "      <th>104</th>\n",
       "      <td>The mangers also play a classic movies on Sund...</td>\n",
       "      <td>en</td>\n",
       "    </tr>\n",
       "    <tr>\n",
       "      <th>105</th>\n",
       "      <td>I chalked it up to possible nerve damage, beca...</td>\n",
       "      <td>en</td>\n",
       "    </tr>\n",
       "  </tbody>\n",
       "</table>\n",
       "</div>"
      ],
      "text/plain": [
       "                                                  Text Label\n",
       "101           Sunshine Coast, British Columbia, Canada    en\n",
       "102                     Emma is fine, too- very well!!    en\n",
       "103                     E até pode não saber quem é...    pt\n",
       "104  The mangers also play a classic movies on Sund...    en\n",
       "105  I chalked it up to possible nerve damage, beca...    en"
      ]
     },
     "execution_count": 28,
     "metadata": {},
     "output_type": "execute_result"
    }
   ],
   "source": [
    "data_devel[101:106]"
   ]
  },
  {
   "cell_type": "code",
   "execution_count": null,
   "metadata": {},
   "outputs": [],
   "source": []
  },
  {
   "cell_type": "code",
   "execution_count": 72,
   "metadata": {},
   "outputs": [],
   "source": [
    "# Creating X and y matrices\n",
    "dev_train_data = (pd.concat([data_train , data_devel])).sample(frac=1).reset_index(drop=True)  # shuffle the datas \n",
    "texts = dev_train_data.drop([\"Label\"],axis=1)\n",
    "texts = texts.to_numpy().tolist()\n",
    "labels = dev_train_data[\"Label\"]\n",
    "labels = labels.to_numpy().tolist()\n",
    "\n",
    "test_texts = data_test.drop([\"Label\"],axis=1)\n",
    "test_labels = data_test[\"Label\"]"
   ]
  },
  {
   "cell_type": "code",
   "execution_count": 79,
   "metadata": {},
   "outputs": [
    {
     "data": {
      "text/plain": [
       "['Após fazer uma única volta rápida, Schumacher emprestou seu carro para o companheiro Jos Verstappen, que havia rodado em os treinos de a manhã.',\n",
       " 'Paraku ei suuda nad uskuda, et ajal, mil nende emad võitlesid õiguse eest tööl käia, on meie emad ja vanaemad alati hirmsasti rabanud.',\n",
       " 'Is it safe to go to Rotarua, since the earthquakes?',\n",
       " 'Thus kaoshikii is a blossoming of the microcosm(unit being) in its attempt to attain a link with the Macrocosm(Cosmic Consciousness).',\n",
       " 'Ayudó a fundar lo que ahora es el Colegio Universitario del de el Estado Libre de Orange y el Seminario Stellenbosch.',\n",
       " 'allerginen tietokoneille',\n",
       " 'Y entre 1960-70 tuvieron problemas por la caza furtiva de caribúes( cinco innu fueron multados con 500 $).',\n",
       " 'Los informes que revelaban el colaboracionismo de Marcos con los nipones durante la invasión de su país fueron olvidados.',\n",
       " 'O gol de a vitória flamenguista foi marcado a os 20 min de o segundo tempo.',\n",
       " 'Provinssin pääkaupunki on Palu.',\n",
       " 'Segundo o presidente de o Corecon, Hélio Portocarrero, a inflação de o real não será puxada por os oligopólios, apontados por a equipe econômica de o governo como os principais vilões em a subida de preços após a implantação de a URV.',\n",
       " 'Se opone a un sistema económico, social o político estratificado.']"
      ]
     },
     "execution_count": 79,
     "metadata": {},
     "output_type": "execute_result"
    }
   ],
   "source": [
    "import numpy as np\n",
    "texts = [i for i in texts ]\n",
    "texts[:12]"
   ]
  },
  {
   "cell_type": "code",
   "execution_count": 80,
   "metadata": {},
   "outputs": [
    {
     "data": {
      "text/plain": [
       "(8000, 2000)"
      ]
     },
     "execution_count": 80,
     "metadata": {},
     "output_type": "execute_result"
    }
   ],
   "source": [
    "# Splitting the data\n",
    "from sklearn.model_selection import train_test_split\n",
    "\n",
    "train_texts, dev_texts, train_labels, dev_labels = train_test_split(texts,labels,test_size=0.2)\n",
    "len(train_texts), len(dev_texts)"
   ]
  },
  {
   "cell_type": "markdown",
   "metadata": {},
   "source": [
    "## classiffier"
   ]
  },
  {
   "cell_type": "code",
   "execution_count": 94,
   "metadata": {},
   "outputs": [
    {
     "name": "stdout",
     "output_type": "stream",
     "text": [
      "shape= (10000, 46875)\n",
      "what did we get? -> <class 'scipy.sparse.csr.csr_matrix'>\n"
     ]
    }
   ],
   "source": [
    "from sklearn.feature_extraction.text import CountVectorizer\n",
    "\n",
    "vectorizer=CountVectorizer(max_features=100000,binary=True,ngram_range=(1,1))\n",
    "feature_matrix=vectorizer.fit_transform(texts)\n",
    "print(\"shape=\",feature_matrix.shape)\n",
    "print(\"what did we get? ->\", feature_matrix.__class__)"
   ]
  },
  {
   "cell_type": "code",
   "execution_count": 95,
   "metadata": {},
   "outputs": [
    {
     "name": "stdout",
     "output_type": "stream",
     "text": [
      "[LibLinear]"
     ]
    },
    {
     "data": {
      "text/plain": [
       "LinearSVC(C=0.0005, class_weight=None, dual=True, fit_intercept=True,\n",
       "          intercept_scaling=1, loss='squared_hinge', max_iter=1000,\n",
       "          multi_class='ovr', penalty='l2', random_state=None, tol=0.0001,\n",
       "          verbose=1)"
      ]
     },
     "execution_count": 95,
     "metadata": {},
     "output_type": "execute_result"
    }
   ],
   "source": [
    "vectorizer=CountVectorizer(max_features=100000,binary=True,ngram_range=(1,1))\n",
    "feature_matrix_train=vectorizer.fit_transform(train_texts)\n",
    "feature_matrix_dev=vectorizer.transform(dev_texts)\n",
    "\n",
    "import sklearn.svm\n",
    "classifier=sklearn.svm.LinearSVC(C=0.0005,verbose=1)\n",
    "classifier.fit(feature_matrix_train, train_labels)"
   ]
  },
  {
   "cell_type": "code",
   "execution_count": 96,
   "metadata": {},
   "outputs": [
    {
     "name": "stdout",
     "output_type": "stream",
     "text": [
      "DEV 0.886\n",
      "TRAIN 0.896125\n"
     ]
    }
   ],
   "source": [
    "print(\"DEV\",classifier.score(feature_matrix_dev, dev_labels))\n",
    "print(\"TRAIN\",classifier.score(feature_matrix_train, train_labels))"
   ]
  },
  {
   "cell_type": "code",
   "execution_count": 97,
   "metadata": {},
   "outputs": [
    {
     "name": "stdout",
     "output_type": "stream",
     "text": [
      "['pt' 'pt' 'et' ... 'fi' 'es' 'pt']\n",
      "[[323   0  59   2   0]\n",
      " [  1 399   5   1   4]\n",
      " [  0   0 359  43   0]\n",
      " [  2   1  59 356   0]\n",
      " [  1   0  47   3 335]]\n",
      "0.886\n"
     ]
    }
   ],
   "source": [
    "import sklearn.metrics\n",
    "predictions_dev=classifier.predict(feature_matrix_dev)\n",
    "print(predictions_dev)\n",
    "print(sklearn.metrics.confusion_matrix(dev_labels,predictions_dev))\n",
    "print(sklearn.metrics.accuracy_score(dev_labels,predictions_dev))"
   ]
  },
  {
   "cell_type": "markdown",
   "metadata": {},
   "source": [
    "### Question 4. toying around with featues\n"
   ]
  },
  {
   "cell_type": "markdown",
   "metadata": {},
   "source": [
    "#### analyser = 'word ' , ngram _range = (1,2)"
   ]
  },
  {
   "cell_type": "code",
   "execution_count": 85,
   "metadata": {},
   "outputs": [
    {
     "name": "stdout",
     "output_type": "stream",
     "text": [
      "shape= (10000, 100000)\n",
      "what did we get? -> <class 'scipy.sparse.csr.csr_matrix'>\n"
     ]
    }
   ],
   "source": [
    "from sklearn.feature_extraction.text import CountVectorizer\n",
    "\n",
    "vectorizer=CountVectorizer(max_features=100000,binary=True,ngram_range=(1,2))\n",
    "feature_matrix_2=vectorizer.fit_transform(texts)\n",
    "print(\"shape=\",feature_matrix_2.shape)\n",
    "print(\"what did we get? ->\", feature_matrix_2.__class__)"
   ]
  },
  {
   "cell_type": "code",
   "execution_count": 99,
   "metadata": {},
   "outputs": [
    {
     "name": "stdout",
     "output_type": "stream",
     "text": [
      "[LibLinear]"
     ]
    },
    {
     "data": {
      "text/plain": [
       "LinearSVC(C=0.0005, class_weight=None, dual=True, fit_intercept=True,\n",
       "          intercept_scaling=1, loss='squared_hinge', max_iter=1000,\n",
       "          multi_class='ovr', penalty='l2', random_state=None, tol=0.0001,\n",
       "          verbose=1)"
      ]
     },
     "execution_count": 99,
     "metadata": {},
     "output_type": "execute_result"
    }
   ],
   "source": [
    "vectorizer=CountVectorizer(max_features=100000,binary=True,ngram_range=(1,2))\n",
    "feature_matrix_train_2=vectorizer.fit_transform(train_texts)\n",
    "feature_matrix_dev_2=vectorizer.transform(dev_texts)\n",
    "\n",
    "import sklearn.svm\n",
    "classifier=sklearn.svm.LinearSVC(C=0.0005,verbose=1)  ## with smaller C \n",
    "classifier.fit(feature_matrix_train_2, train_labels)"
   ]
  },
  {
   "cell_type": "code",
   "execution_count": 100,
   "metadata": {},
   "outputs": [
    {
     "name": "stdout",
     "output_type": "stream",
     "text": [
      "DEV 0.885\n",
      "TRAIN 0.9005\n"
     ]
    }
   ],
   "source": [
    "print(\"DEV\",classifier.score(feature_matrix_dev_2, dev_labels))\n",
    "print(\"TRAIN\",classifier.score(feature_matrix_train_2, train_labels))"
   ]
  },
  {
   "cell_type": "code",
   "execution_count": 101,
   "metadata": {},
   "outputs": [
    {
     "name": "stdout",
     "output_type": "stream",
     "text": [
      "['pt' 'pt' 'et' ... 'fi' 'es' 'pt']\n",
      "[[323   0  59   2   0]\n",
      " [  1 398   5   1   5]\n",
      " [  0   0 358  44   0]\n",
      " [  2   1  59 356   0]\n",
      " [  1   0  47   3 335]]\n",
      "0.885\n"
     ]
    }
   ],
   "source": [
    "## prediction score and confusion matrix\n",
    "import sklearn.metrics\n",
    "predictions_dev_2=classifier.predict(feature_matrix_dev_2)\n",
    "print(predictions_dev_2)\n",
    "print(sklearn.metrics.confusion_matrix(dev_labels,predictions_dev_2))\n",
    "print(sklearn.metrics.accuracy_score(dev_labels,predictions_dev_2))"
   ]
  },
  {
   "cell_type": "markdown",
   "metadata": {},
   "source": [
    "### lets consider character instead of word as an analyser = 'char_wb'"
   ]
  },
  {
   "cell_type": "markdown",
   "metadata": {},
   "source": [
    "#### analyzer='char_wb',ngram_range=(2,2)"
   ]
  },
  {
   "cell_type": "code",
   "execution_count": 108,
   "metadata": {},
   "outputs": [
    {
     "name": "stdout",
     "output_type": "stream",
     "text": [
      "shape= (10000, 2762)\n",
      "what did we get? -> <class 'scipy.sparse.csr.csr_matrix'>\n"
     ]
    }
   ],
   "source": [
    "from sklearn.feature_extraction.text import CountVectorizer\n",
    "\n",
    "vectorizer=CountVectorizer(max_features=100000,binary=True,analyzer='char_wb',ngram_range=(2,2))\n",
    "feature_matrix_3=vectorizer.fit_transform(texts)\n",
    "print(\"shape=\",feature_matrix_3.shape)\n",
    "print(\"what did we get? ->\", feature_matrix_3.__class__)"
   ]
  },
  {
   "cell_type": "code",
   "execution_count": 109,
   "metadata": {},
   "outputs": [
    {
     "name": "stdout",
     "output_type": "stream",
     "text": [
      "[LibLinear]"
     ]
    },
    {
     "data": {
      "text/plain": [
       "LinearSVC(C=0.0005, class_weight=None, dual=True, fit_intercept=True,\n",
       "          intercept_scaling=1, loss='squared_hinge', max_iter=1000,\n",
       "          multi_class='ovr', penalty='l2', random_state=None, tol=0.0001,\n",
       "          verbose=1)"
      ]
     },
     "execution_count": 109,
     "metadata": {},
     "output_type": "execute_result"
    }
   ],
   "source": [
    "vectorizer=CountVectorizer(max_features=100000,binary=True,analyzer='char_wb',ngram_range=(2,2))\n",
    "feature_matrix_train_3=vectorizer.fit_transform(train_texts)\n",
    "feature_matrix_dev_3=vectorizer.transform(dev_texts)\n",
    "\n",
    "import sklearn.svm\n",
    "classifier=sklearn.svm.LinearSVC(C=0.0005,verbose=1)  \n",
    "classifier.fit(feature_matrix_train_3, train_labels)"
   ]
  },
  {
   "cell_type": "code",
   "execution_count": 110,
   "metadata": {},
   "outputs": [
    {
     "name": "stdout",
     "output_type": "stream",
     "text": [
      "DEV 0.966\n",
      "TRAIN 0.972375\n"
     ]
    }
   ],
   "source": [
    "print(\"DEV\",classifier.score(feature_matrix_dev_3, dev_labels))\n",
    "print(\"TRAIN\",classifier.score(feature_matrix_train_3, train_labels))"
   ]
  },
  {
   "cell_type": "code",
   "execution_count": 111,
   "metadata": {},
   "outputs": [
    {
     "name": "stdout",
     "output_type": "stream",
     "text": [
      "['pt' 'pt' 'en' ... 'fi' 'es' 'pt']\n",
      "[[371   2   7   0   4]\n",
      " [  3 400   2   1   4]\n",
      " [  6   1 384  10   1]\n",
      " [  3   0   6 409   0]\n",
      " [ 11   3   2   2 368]]\n",
      "0.966\n"
     ]
    }
   ],
   "source": [
    "## prediction score and confusion matrix\n",
    "import sklearn.metrics\n",
    "predictions_dev_3=classifier.predict(feature_matrix_dev_3)\n",
    "print(predictions_dev_3)\n",
    "print(sklearn.metrics.confusion_matrix(dev_labels,predictions_dev_3))\n",
    "print(sklearn.metrics.accuracy_score(dev_labels,predictions_dev_3))"
   ]
  },
  {
   "cell_type": "markdown",
   "metadata": {},
   "source": [
    "#### analyzer='char_wb',ngram_range=(2,3)"
   ]
  },
  {
   "cell_type": "code",
   "execution_count": 112,
   "metadata": {},
   "outputs": [
    {
     "name": "stdout",
     "output_type": "stream",
     "text": [
      "shape= (10000, 22225)\n",
      "what did we get? -> <class 'scipy.sparse.csr.csr_matrix'>\n"
     ]
    }
   ],
   "source": [
    "from sklearn.feature_extraction.text import CountVectorizer\n",
    "\n",
    "vectorizer=CountVectorizer(max_features=100000,binary=True,analyzer='char_wb',ngram_range=(2,3))\n",
    "feature_matrix_4=vectorizer.fit_transform(texts)\n",
    "print(\"shape=\",feature_matrix_4.shape)\n",
    "print(\"what did we get? ->\", feature_matrix_4.__class__)"
   ]
  },
  {
   "cell_type": "code",
   "execution_count": 113,
   "metadata": {},
   "outputs": [
    {
     "name": "stdout",
     "output_type": "stream",
     "text": [
      "[LibLinear]"
     ]
    },
    {
     "data": {
      "text/plain": [
       "LinearSVC(C=0.0005, class_weight=None, dual=True, fit_intercept=True,\n",
       "          intercept_scaling=1, loss='squared_hinge', max_iter=1000,\n",
       "          multi_class='ovr', penalty='l2', random_state=None, tol=0.0001,\n",
       "          verbose=1)"
      ]
     },
     "execution_count": 113,
     "metadata": {},
     "output_type": "execute_result"
    }
   ],
   "source": [
    "vectorizer=CountVectorizer(max_features=100000,binary=True,analyzer='char_wb',ngram_range=(2,3))\n",
    "feature_matrix_train_4=vectorizer.fit_transform(train_texts)\n",
    "feature_matrix_dev_4=vectorizer.transform(dev_texts)\n",
    "\n",
    "import sklearn.svm\n",
    "classifier=sklearn.svm.LinearSVC(C=0.0005,verbose=1)  \n",
    "classifier.fit(feature_matrix_train_4, train_labels)"
   ]
  },
  {
   "cell_type": "code",
   "execution_count": 114,
   "metadata": {},
   "outputs": [
    {
     "name": "stdout",
     "output_type": "stream",
     "text": [
      "DEV 0.9795\n",
      "TRAIN 0.979625\n"
     ]
    }
   ],
   "source": [
    "print(\"DEV\",classifier.score(feature_matrix_dev_4, dev_labels))\n",
    "print(\"TRAIN\",classifier.score(feature_matrix_train_4, train_labels))"
   ]
  },
  {
   "cell_type": "code",
   "execution_count": 115,
   "metadata": {},
   "outputs": [
    {
     "name": "stdout",
     "output_type": "stream",
     "text": [
      "['pt' 'pt' 'en' ... 'fi' 'es' 'pt']\n",
      "[[381   0   1   0   2]\n",
      " [  1 406   1   1   1]\n",
      " [  5   1 390   6   0]\n",
      " [  4   0   4 410   0]\n",
      " [  9   3   0   2 372]]\n",
      "0.9795\n"
     ]
    }
   ],
   "source": [
    "## prediction score and confusion matrix\n",
    "import sklearn.metrics\n",
    "predictions_dev_4=classifier.predict(feature_matrix_dev_4)\n",
    "print(predictions_dev_4)\n",
    "print(sklearn.metrics.confusion_matrix(dev_labels,predictions_dev_4))\n",
    "print(sklearn.metrics.accuracy_score(dev_labels,predictions_dev_4))"
   ]
  },
  {
   "cell_type": "markdown",
   "metadata": {},
   "source": [
    "As per the above result, the score of the train, development and predicion significantly increases when we change the analyser from the word to character. Also with increasing the ngram the scores show increases. "
   ]
  },
  {
   "cell_type": "markdown",
   "metadata": {},
   "source": [
    "# Q5:"
   ]
  },
  {
   "cell_type": "code",
   "execution_count": 14,
   "metadata": {},
   "outputs": [],
   "source": [
    "# this is how you read a file of this kind\n",
    "# one item per line, empty lines between sequences\n",
    "from collections import namedtuple\n",
    "#Same as tuple but the fields are named for convenience\n",
    "#this says we have four fields\n",
    "OneWord=namedtuple(\"OneWord\",[\"id\",\"form\",\"lemma\",\"upos\"])\n",
    "def read_ud(f_name):\n",
    "    \"\"\"Yield complete sentences\"\"\"\n",
    "    current_sentence=[] #This will be a list of (word,label), which we accumulate for each sentence\n",
    "    with open(f_name) as f:\n",
    "        for line in f:\n",
    "            line=line.strip() #drop whitespace\n",
    "            if line.startswith(\"#\"): #let's not worry about these for the time being\n",
    "                continue\n",
    "            if not line: #sentence break\n",
    "                if current_sentence: #if we gathered a sentence, we should yield it, because a new starts\n",
    "                    yield current_sentence #much like return, but continues past this line once the element has been consumed\n",
    "                    current_sentence=[] #...and start a new one\n",
    "                continue\n",
    "            #if we made it here, we are on a normal line\n",
    "            columns=line.split() #an actual word line\n",
    "            assert len(columns[:4])==4 #we should have four columns, looking at the data\n",
    "            current_sentence.append(OneWord(*columns[:4]))\n",
    "        else: #for ... else -> the else part is executed once, when \"for\" runs out of elements\n",
    "            if current_sentence: #yield also the last one!\n",
    "                yield current_sentence\n",
    "#Now just read the data in\n",
    "sentences_train=list(read_ud(\"./zh_gsdsimp-ud-train.conllu\"))\n",
    "sentences_dev=list(read_ud(\"./zh_gsdsimp-ud-dev.conllu\"))\n",
    "print(\"First three sentences\")\n",
    "for sent in sentences_dev[:3]:\n",
    "    print(sent)\n",
    "    print()\n",
    "\n",
    "def generate_sentence_features(sent):\n",
    "    #Given a sentence as a list of (word, label) pairs\n",
    "    #generate the features for every word\n",
    "    #The result should be a list of same length as the sentence\n",
    "    #Each item is a dictionary of {\"feature name\"->feature value} mappings, holding all features of the word at that position\n",
    "    sent_features=[] #this will be the result\n",
    "    for one_word in sent:\n",
    "        #We do nothing with label\n",
    "        #it just happens to be around\n",
    "        word_features={}\n",
    "        word_features[one_word.form]=1 #the word itself is a feature\n",
    "        sent_features.append(word_features)\n",
    "    return sent_features\n",
    "print(generate_sentence_features(sentences_dev[2])  )\n",
    "\n",
    "#...now we can generate the training examples\n",
    "def prep_data(sentences):\n",
    "    all_labels=[] #here we gather labels for all words in all sentences\n",
    "    all_features=[] #here we gather features for all words in all sentences\n",
    "    for sentence in sentences:\n",
    "        sent_features=generate_sentence_features(sentence)\n",
    "        assert len(sent_features)==len(sentence)\n",
    "        #Now we can get, for every position its label and its features\n",
    "        for one_word,features in zip(sentence,sent_features):\n",
    "            all_labels.append(one_word.upos) #label\n",
    "            all_features.append(features)         #and features to go with it\n",
    "    return all_labels, all_features\n",
    "train_labels,train_features=prep_data(sentences_train)\n",
    "dev_labels,dev_features=prep_data(sentences_dev)\n",
    "\n",
    "from sklearn.feature_extraction import DictVectorizer\n",
    "vectorizer=DictVectorizer()\n",
    "vectorizer.fit(train_features)\n",
    "print(\"Vectorizer vocab size:\",len(vectorizer.vocabulary_))\n",
    "feature_vectors_train=vectorizer.transform(train_features)\n",
    "feature_vectors_dev=vectorizer.transform(dev_features)\n",
    "print(\"Train shape\",feature_vectors_train.shape)\n",
    "print(\"Dev shape\",feature_vectors_dev.shape)\n",
    "\n",
    "classifier=sklearn.svm.LinearSVC(C=0.05,verbose=1)\n",
    "classifier.fit(feature_vectors_train, train_labels)\n",
    "\n",
    "# Let us try to look at some predictions\n",
    "sentence_data=[OneWord(\"XXX\",w,\"XXX\",\"XXX\") for w in lst] #we need to fake this a bit\n",
    "_,sentence_features=prep_data([sentence_data])\n",
    "sentence_vectors=vectorizer.transform(sentence_features)\n",
    "predictions=classifier.predict(sentence_vectors)\n",
    "for word,label in zip(lst,predictions):\n",
    "    print(word,label)"
   ]
  },
  {
   "cell_type": "code",
   "execution_count": null,
   "metadata": {},
   "outputs": [],
   "source": []
  }
 ],
 "metadata": {
  "kernelspec": {
   "display_name": "Python 3",
   "language": "python",
   "name": "python3"
  },
  "language_info": {
   "codemirror_mode": {
    "name": "ipython",
    "version": 3
   },
   "file_extension": ".py",
   "mimetype": "text/x-python",
   "name": "python",
   "nbconvert_exporter": "python",
   "pygments_lexer": "ipython3",
   "version": "3.6.5"
  }
 },
 "nbformat": 4,
 "nbformat_minor": 2
}
